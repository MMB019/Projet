{
  "nbformat": 4,
  "nbformat_minor": 0,
  "metadata": {
    "colab": {
      "name": "DIT_PROJET_VIH.ipynb",
      "provenance": [],
      "toc_visible": true,
      "authorship_tag": "ABX9TyOA0BulwsBUl+L478/5aWHl",
      "include_colab_link": true
    },
    "kernelspec": {
      "name": "python3",
      "display_name": "Python 3"
    },
    "language_info": {
      "name": "python"
    }
  },
  "cells": [
    {
      "cell_type": "markdown",
      "metadata": {
        "id": "view-in-github",
        "colab_type": "text"
      },
      "source": [
        "<a href=\"https://colab.research.google.com/github/MMB019/Projet/blob/main/DIT_PROJET_VIH.ipynb\" target=\"_parent\"><img src=\"https://colab.research.google.com/assets/colab-badge.svg\" alt=\"Open In Colab\"/></a>"
      ]
    },
    {
      "cell_type": "code",
      "metadata": {
        "id": "_p64arMRPndz"
      },
      "source": [
        "#importation des librairies\n",
        "import numpy as np \n",
        "import pandas as pd\n",
        "import matplotlib.pyplot as plt \n",
        "import seaborn as sns "
      ],
      "execution_count": 131,
      "outputs": []
    },
    {
      "cell_type": "code",
      "metadata": {
        "colab": {
          "base_uri": "https://localhost:8080/"
        },
        "id": "qQpbeGxoP0Mb",
        "outputId": "6fea4d75-8af0-4e40-b735-2fc8258759d8"
      },
      "source": [
        "#connection au drive\n",
        "from google.colab import drive\n",
        "drive.mount(\"/content/drive\")"
      ],
      "execution_count": 132,
      "outputs": [
        {
          "output_type": "stream",
          "text": [
            "Drive already mounted at /content/drive; to attempt to forcibly remount, call drive.mount(\"/content/drive\", force_remount=True).\n"
          ],
          "name": "stdout"
        }
      ]
    },
    {
      "cell_type": "code",
      "metadata": {
        "id": "8gbR3tqfP74e"
      },
      "source": [
        "#lecture du fichier\n",
        "df=pd.read_csv(\"/content/drive/MyDrive/DIT_project2/data.csv\")"
      ],
      "execution_count": 133,
      "outputs": []
    },
    {
      "cell_type": "markdown",
      "metadata": {
        "id": "OZuMNWEoQukW"
      },
      "source": [
        "## Analyse exploratoire des données"
      ]
    },
    {
      "cell_type": "code",
      "metadata": {
        "colab": {
          "base_uri": "https://localhost:8080/",
          "height": 244
        },
        "id": "NcBqWnSRQzab",
        "outputId": "90de2784-4c6c-433d-82f8-889a16747bd2"
      },
      "source": [
        "#print of the dataframe\n",
        "df.head()"
      ],
      "execution_count": 134,
      "outputs": [
        {
          "output_type": "execute_result",
          "data": {
            "text/html": [
              "<div>\n",
              "<style scoped>\n",
              "    .dataframe tbody tr th:only-of-type {\n",
              "        vertical-align: middle;\n",
              "    }\n",
              "\n",
              "    .dataframe tbody tr th {\n",
              "        vertical-align: top;\n",
              "    }\n",
              "\n",
              "    .dataframe thead th {\n",
              "        text-align: right;\n",
              "    }\n",
              "</style>\n",
              "<table border=\"1\" class=\"dataframe\">\n",
              "  <thead>\n",
              "    <tr style=\"text-align: right;\">\n",
              "      <th></th>\n",
              "      <th>PatientID</th>\n",
              "      <th>Resp</th>\n",
              "      <th>PR Seq</th>\n",
              "      <th>RT Seq</th>\n",
              "      <th>VL-t0</th>\n",
              "      <th>CD4-t0</th>\n",
              "    </tr>\n",
              "  </thead>\n",
              "  <tbody>\n",
              "    <tr>\n",
              "      <th>0</th>\n",
              "      <td>1</td>\n",
              "      <td>0</td>\n",
              "      <td>CCTCAAATCACTCTTTGGCAACGACCCCTCGTCCCAATAAGGATAG...</td>\n",
              "      <td>CCCATTAGTCCTATTGAAACTGTACCAGTAAAGCTAAAGCCAGGAA...</td>\n",
              "      <td>4.3</td>\n",
              "      <td>145</td>\n",
              "    </tr>\n",
              "    <tr>\n",
              "      <th>1</th>\n",
              "      <td>2</td>\n",
              "      <td>0</td>\n",
              "      <td>CCTCAAATCACTCTTTGGCAACGACCCCTCGTCGCAATAAAGATAG...</td>\n",
              "      <td>CCCATTAGTCCTATTGAAACTGTACCAGTAAAATTAAAGCCAGGAA...</td>\n",
              "      <td>3.6</td>\n",
              "      <td>224</td>\n",
              "    </tr>\n",
              "    <tr>\n",
              "      <th>2</th>\n",
              "      <td>3</td>\n",
              "      <td>0</td>\n",
              "      <td>CCTCAAATCACTCTTTGGCAACGACCCCTCGTCGCAATAAAGGTAG...</td>\n",
              "      <td>CCCATTAGTCCTATTGAAACTGTACCAGTAAAATTAAAGCCAGGAA...</td>\n",
              "      <td>3.2</td>\n",
              "      <td>1017</td>\n",
              "    </tr>\n",
              "    <tr>\n",
              "      <th>3</th>\n",
              "      <td>4</td>\n",
              "      <td>0</td>\n",
              "      <td>CCTCAAATCACTCTTTGGCAACGACCCCTCGTCGCAATAAGGATAG...</td>\n",
              "      <td>CCCATTAGTCCTATTGAAACTGTACCAGTAAAATTAAAGCCAGGAA...</td>\n",
              "      <td>5.7</td>\n",
              "      <td>206</td>\n",
              "    </tr>\n",
              "    <tr>\n",
              "      <th>4</th>\n",
              "      <td>5</td>\n",
              "      <td>0</td>\n",
              "      <td>CCTCAAATCACTCTTTGGCAACGACCCCTCGTCGCAGTAAAGATAG...</td>\n",
              "      <td>CCCATTAGTCCTATTGAAACTGTACCAGTAAAATTAAAGCCAGGAA...</td>\n",
              "      <td>3.5</td>\n",
              "      <td>572</td>\n",
              "    </tr>\n",
              "  </tbody>\n",
              "</table>\n",
              "</div>"
            ],
            "text/plain": [
              "   PatientID  Resp  ... VL-t0 CD4-t0\n",
              "0          1     0  ...   4.3    145\n",
              "1          2     0  ...   3.6    224\n",
              "2          3     0  ...   3.2   1017\n",
              "3          4     0  ...   5.7    206\n",
              "4          5     0  ...   3.5    572\n",
              "\n",
              "[5 rows x 6 columns]"
            ]
          },
          "metadata": {
            "tags": []
          },
          "execution_count": 134
        }
      ]
    },
    {
      "cell_type": "code",
      "metadata": {
        "colab": {
          "base_uri": "https://localhost:8080/"
        },
        "id": "Kf4oQ-s1Q2Lx",
        "outputId": "21f0cfcc-f3b2-4582-d4f1-07d5a11f2b75"
      },
      "source": [
        "#shape of the df\n",
        "df.shape"
      ],
      "execution_count": 135,
      "outputs": [
        {
          "output_type": "execute_result",
          "data": {
            "text/plain": [
              "(1000, 6)"
            ]
          },
          "metadata": {
            "tags": []
          },
          "execution_count": 135
        }
      ]
    },
    {
      "cell_type": "code",
      "metadata": {
        "colab": {
          "base_uri": "https://localhost:8080/"
        },
        "id": "UP9ua96BRRo7",
        "outputId": "9a26c89b-e6cf-4521-d9b4-66769f33393b"
      },
      "source": [
        "#look at for the carasteristic of the data\n",
        "df.info()"
      ],
      "execution_count": 136,
      "outputs": [
        {
          "output_type": "stream",
          "text": [
            "<class 'pandas.core.frame.DataFrame'>\n",
            "RangeIndex: 1000 entries, 0 to 999\n",
            "Data columns (total 6 columns):\n",
            " #   Column     Non-Null Count  Dtype  \n",
            "---  ------     --------------  -----  \n",
            " 0   PatientID  1000 non-null   int64  \n",
            " 1   Resp       1000 non-null   int64  \n",
            " 2   PR Seq     920 non-null    object \n",
            " 3   RT Seq     1000 non-null   object \n",
            " 4   VL-t0      1000 non-null   float64\n",
            " 5   CD4-t0     1000 non-null   int64  \n",
            "dtypes: float64(1), int64(3), object(2)\n",
            "memory usage: 47.0+ KB\n"
          ],
          "name": "stdout"
        }
      ]
    },
    {
      "cell_type": "code",
      "metadata": {
        "colab": {
          "base_uri": "https://localhost:8080/"
        },
        "id": "pevSfyL0TV1n",
        "outputId": "ec5003e5-e83e-46c2-a615-dc589bf2146a"
      },
      "source": [
        "#feature_continuous\n",
        "feature_continuous=df.describe().columns.drop('PatientID')\n",
        "feature_continuous"
      ],
      "execution_count": 137,
      "outputs": [
        {
          "output_type": "execute_result",
          "data": {
            "text/plain": [
              "Index(['Resp', 'VL-t0', 'CD4-t0'], dtype='object')"
            ]
          },
          "metadata": {
            "tags": []
          },
          "execution_count": 137
        }
      ]
    },
    {
      "cell_type": "code",
      "metadata": {
        "colab": {
          "base_uri": "https://localhost:8080/"
        },
        "id": "fJ575Q5HXbp-",
        "outputId": "8983a15e-ec4f-4ede-ec55-dbadf2d9df0f"
      },
      "source": [
        "df['Resp'].value_counts()"
      ],
      "execution_count": 138,
      "outputs": [
        {
          "output_type": "execute_result",
          "data": {
            "text/plain": [
              "0    794\n",
              "1    206\n",
              "Name: Resp, dtype: int64"
            ]
          },
          "metadata": {
            "tags": []
          },
          "execution_count": 138
        }
      ]
    },
    {
      "cell_type": "code",
      "metadata": {
        "colab": {
          "base_uri": "https://localhost:8080/"
        },
        "id": "b5H9C5VlWT72",
        "outputId": "44b4e23c-cd26-49a2-e25a-1481851711fd"
      },
      "source": [
        "#verification if it is a real continuous feature\n",
        "for col in feature_continuous:\n",
        "  print(f\"{col}, :{df[col].value_counts().shape} \")\n"
      ],
      "execution_count": 139,
      "outputs": [
        {
          "output_type": "stream",
          "text": [
            "Resp, :(2,) \n",
            "VL-t0, :(59,) \n",
            "CD4-t0, :(511,) \n"
          ],
          "name": "stdout"
        }
      ]
    },
    {
      "cell_type": "code",
      "metadata": {
        "colab": {
          "base_uri": "https://localhost:8080/",
          "height": 426
        },
        "id": "yP1U8faLT3Eu",
        "outputId": "4f0fb344-e8cf-41de-a517-54b314098e03"
      },
      "source": [
        "#plot of features continuous\n",
        "plt.figure(figsize=(12,8))\n",
        "plt.scatter(df['VL-t0'],df['CD4-t0'],lw=5)\n",
        "plt.show()"
      ],
      "execution_count": 140,
      "outputs": [
        {
          "output_type": "display_data",
          "data": {
            "image/png": "[encoded data removed]",
            "text/plain": [
              "<Figure size 864x576 with 1 Axes>"
            ]
          },
          "metadata": {
            "tags": [],
            "needs_background": "light"
          }
        }
      ]
    },
    {
      "cell_type": "markdown",
      "metadata": {
        "id": "yMsRz8ybp6W-"
      },
      "source": [
        "le plot de 'VL-t0' par rapport 'CD4-t0' montre l'existence des outliers "
      ]
    },
    {
      "cell_type": "code",
      "metadata": {
        "colab": {
          "base_uri": "https://localhost:8080/",
          "height": 388
        },
        "id": "Ukgl6BkqUv-c",
        "outputId": "a07ac15d-9cf1-45bb-8ef6-130e6699efc3"
      },
      "source": [
        "plt.figure(figsize=(10,6))\n",
        "\n",
        "sns.boxplot(x=df['VL-t0'])\n",
        "\n",
        "plt.show()"
      ],
      "execution_count": 141,
      "outputs": [
        {
          "output_type": "display_data",
          "data": {
            "image/png": "[encoded data removed]",
            "text/plain": [
              "<Figure size 720x432 with 1 Axes>"
            ]
          },
          "metadata": {
            "tags": [],
            "needs_background": "light"
          }
        }
      ]
    },
    {
      "cell_type": "code",
      "metadata": {
        "colab": {
          "base_uri": "https://localhost:8080/",
          "height": 388
        },
        "id": "KeBJmQ9IZTB7",
        "outputId": "6681b0ea-4cb7-44c2-ac23-6dc62e850dbb"
      },
      "source": [
        "plt.figure(figsize=(10,6))\n",
        "\n",
        "sns.boxplot(x=df['CD4-t0'])\n",
        "\n",
        "plt.show()"
      ],
      "execution_count": 142,
      "outputs": [
        {
          "output_type": "display_data",
          "data": {
            "image/png": "[encoded data removed]",
            "text/plain": [
              "<Figure size 720x432 with 1 Axes>"
            ]
          },
          "metadata": {
            "tags": [],
            "needs_background": "light"
          }
        }
      ]
    },
    {
      "cell_type": "markdown",
      "metadata": {
        "id": "1Muuo8egq8xs"
      },
      "source": [
        "** avec le boxplot l'existence des outliers pour la colonne CD4-tO \n",
        "oui, bien sure avant de faire le modeling nous allons standariser **"
      ]
    },
    {
      "cell_type": "code",
      "metadata": {
        "colab": {
          "base_uri": "https://localhost:8080/",
          "height": 486
        },
        "id": "FrEOAaMrpsUX",
        "outputId": "8151fd21-2d91-443f-909a-2d9e7d5c9574"
      },
      "source": [
        "#visalusation of the matrice the coleration\n",
        "plt.figure(figsize=(12,8))\n",
        "sns.heatmap(df.corr(),annot=True)\n",
        "plt.show"
      ],
      "execution_count": 143,
      "outputs": [
        {
          "output_type": "execute_result",
          "data": {
            "text/plain": [
              "<function matplotlib.pyplot.show>"
            ]
          },
          "metadata": {
            "tags": []
          },
          "execution_count": 143
        },
        {
          "output_type": "display_data",
          "data": {
            "image/png": "[encoded data removed]",
            "text/plain": [
              "<Figure size 864x576 with 2 Axes>"
            ]
          },
          "metadata": {
            "tags": [],
            "needs_background": "light"
          }
        }
      ]
    },
    {
      "cell_type": "markdown",
      "metadata": {
        "id": "2oeet-X4sYx8"
      },
      "source": [
        "la colone VL-tO a une forte coleration avec resp positivement , a l'oposée de CD4-tO qui negativement colorée avec resp avec une valeurs relativement faible\n",
        "CD4-tO et  VL-tO sont colorée mais negativement"
      ]
    },
    {
      "cell_type": "code",
      "metadata": {
        "colab": {
          "base_uri": "https://localhost:8080/"
        },
        "id": "Nmkh9Ulir10_",
        "outputId": "8515aa38-72cb-4126-8cee-8736a6226d60"
      },
      "source": [
        "#look at for the nan value\n",
        "df.isna().sum()"
      ],
      "execution_count": 144,
      "outputs": [
        {
          "output_type": "execute_result",
          "data": {
            "text/plain": [
              "PatientID     0\n",
              "Resp          0\n",
              "PR Seq       80\n",
              "RT Seq        0\n",
              "VL-t0         0\n",
              "CD4-t0        0\n",
              "dtype: int64"
            ]
          },
          "metadata": {
            "tags": []
          },
          "execution_count": 144
        }
      ]
    },
    {
      "cell_type": "code",
      "metadata": {
        "colab": {
          "base_uri": "https://localhost:8080/"
        },
        "id": "77Wys6pxsGhG",
        "outputId": "1cb840dd-2297-4184-ab3d-8f03e2e2535e"
      },
      "source": [
        "#pourcentage of the nan value\n",
        "print(f\"le pourcentage des valeurs null: {df['PR Seq'].isna().sum()/df.shape[0]}\")"
      ],
      "execution_count": 145,
      "outputs": [
        {
          "output_type": "stream",
          "text": [
            "le pourcentage des valeurs null: 0.08\n"
          ],
          "name": "stdout"
        }
      ]
    },
    {
      "cell_type": "code",
      "metadata": {
        "id": "plimrQiLuV0Z"
      },
      "source": [
        "#delte of a nan value\n",
        "df.dropna(axis=0, inplace=True)"
      ],
      "execution_count": 146,
      "outputs": []
    },
    {
      "cell_type": "code",
      "metadata": {
        "colab": {
          "base_uri": "https://localhost:8080/"
        },
        "id": "mzi3DwaDvTQx",
        "outputId": "0f3d1e77-533a-460e-a526-24034b4301fc"
      },
      "source": [
        "#verification\n",
        "df.isna().sum()"
      ],
      "execution_count": 147,
      "outputs": [
        {
          "output_type": "execute_result",
          "data": {
            "text/plain": [
              "PatientID    0\n",
              "Resp         0\n",
              "PR Seq       0\n",
              "RT Seq       0\n",
              "VL-t0        0\n",
              "CD4-t0       0\n",
              "dtype: int64"
            ]
          },
          "metadata": {
            "tags": []
          },
          "execution_count": 147
        }
      ]
    },
    {
      "cell_type": "markdown",
      "metadata": {
        "id": "4EH5ovFgvl_6"
      },
      "source": [
        "Oui y'a des valeurs manquantes\n",
        "vue le pourcentage des valeurs manquantes sur l'ensemble de nos données , avec une portion de 0.8 donc on peut proceder  a une supprission"
      ]
    },
    {
      "cell_type": "code",
      "metadata": {
        "colab": {
          "base_uri": "https://localhost:8080/",
          "height": 466
        },
        "id": "xEgtw0qRxbbS",
        "outputId": "5100dc8f-34c1-4e2e-bfef-b6006c597dea"
      },
      "source": [
        "plt.figure(figsize=(12,8))\n",
        "df['Resp'].value_counts().plot.pie(autopct=\"%.1f%%\")\n",
        "plt.show()"
      ],
      "execution_count": 148,
      "outputs": [
        {
          "output_type": "display_data",
          "data": {
            "image/png": "[encoded data removed]",
            "text/plain": [
              "<Figure size 864x576 with 1 Axes>"
            ]
          },
          "metadata": {
            "tags": []
          }
        }
      ]
    },
    {
      "cell_type": "code",
      "metadata": {
        "colab": {
          "base_uri": "https://localhost:8080/",
          "height": 386
        },
        "id": "9IrX9Sd6wSvX",
        "outputId": "1f4a8e69-b751-4120-feca-0d6fe679fb8f"
      },
      "source": [
        "plt.figure(figsize=(12,8))\n",
        "\n",
        "sns.displot(x=df['VL-t0'],kde=True)\n",
        "\n",
        "plt.show()"
      ],
      "execution_count": 149,
      "outputs": [
        {
          "output_type": "display_data",
          "data": {
            "text/plain": [
              "<Figure size 864x576 with 0 Axes>"
            ]
          },
          "metadata": {
            "tags": []
          }
        },
        {
          "output_type": "display_data",
          "data": {
            "image/png": "[encoded data removed]",
            "text/plain": [
              "<Figure size 360x360 with 1 Axes>"
            ]
          },
          "metadata": {
            "tags": [],
            "needs_background": "light"
          }
        }
      ]
    },
    {
      "cell_type": "code",
      "metadata": {
        "colab": {
          "base_uri": "https://localhost:8080/",
          "height": 386
        },
        "id": "CjB0DoyKvipy",
        "outputId": "f8283ff1-39ef-4f5e-8bd0-67125e76a77e"
      },
      "source": [
        "plt.figure(figsize=(12,8))\n",
        "\n",
        "sns.displot(x=df['CD4-t0'],kde=True)\n",
        "\n",
        "plt.show()"
      ],
      "execution_count": 150,
      "outputs": [
        {
          "output_type": "display_data",
          "data": {
            "text/plain": [
              "<Figure size 864x576 with 0 Axes>"
            ]
          },
          "metadata": {
            "tags": []
          }
        },
        {
          "output_type": "display_data",
          "data": {
            "image/png": "[encoded data removed]",
            "text/plain": [
              "<Figure size 360x360 with 1 Axes>"
            ]
          },
          "metadata": {
            "tags": [],
            "needs_background": "light"
          }
        }
      ]
    },
    {
      "cell_type": "markdown",
      "metadata": {
        "id": "TYiuiMcUyESU"
      },
      "source": [
        "La visualisation des colonnes comme CD4-tO et VL-t0 \n",
        "les conclusions sont a peu près les mêmes pour le boxplot :\n",
        "  -nous voyons la presence de outliers dans CD4-tO\n",
        "  -la distribution de VL-t0 est quasi-normale\n",
        "avec la colone Resp nous constatons : le imbalancete des données "
      ]
    },
    {
      "cell_type": "code",
      "metadata": {
        "id": "9lGpzsYHxJ-c"
      },
      "source": [
        "#set de value X and y\n",
        "X=df[['VL-t0','CD4-t0']]\n",
        "y=df['Resp']"
      ],
      "execution_count": 151,
      "outputs": []
    },
    {
      "cell_type": "code",
      "metadata": {
        "id": "b59DQniQwhMs"
      },
      "source": [
        "#normalisation\n",
        "from sklearn.preprocessing import StandardScaler\n",
        "\n",
        "scaler=StandardScaler()\n",
        "X_s=scaler.fit_transform(X)"
      ],
      "execution_count": 152,
      "outputs": []
    },
    {
      "cell_type": "code",
      "metadata": {
        "id": "Q15docJSxPXm"
      },
      "source": [
        "#divison of the data\n",
        "from sklearn.model_selection import train_test_split\n",
        "X_train,X_test,y_train,y_test=train_test_split(X_s,y,test_size=.20, random_state=0)"
      ],
      "execution_count": 153,
      "outputs": []
    },
    {
      "cell_type": "code",
      "metadata": {
        "colab": {
          "base_uri": "https://localhost:8080/"
        },
        "id": "ZotwW3yy0UwA",
        "outputId": "73ecc42f-6627-4b02-d16b-782ad3491e4c"
      },
      "source": [
        "#base line \n",
        "from sklearn.neighbors import KNeighborsClassifier\n",
        "\n",
        "model_knn=KNeighborsClassifier()\n",
        "model_knn.fit(X_train,y_train)"
      ],
      "execution_count": 154,
      "outputs": [
        {
          "output_type": "execute_result",
          "data": {
            "text/plain": [
              "KNeighborsClassifier(algorithm='auto', leaf_size=30, metric='minkowski',\n",
              "                     metric_params=None, n_jobs=None, n_neighbors=5, p=2,\n",
              "                     weights='uniform')"
            ]
          },
          "metadata": {
            "tags": []
          },
          "execution_count": 154
        }
      ]
    },
    {
      "cell_type": "markdown",
      "metadata": {
        "id": "wNDLjAh21Phl"
      },
      "source": [
        "Je suis KNeighborsClassifier vue sa simple licité cela me servira de point de réperer pour evaluer les autres modèles que j'aurais a choisir "
      ]
    },
    {
      "cell_type": "code",
      "metadata": {
        "colab": {
          "base_uri": "https://localhost:8080/"
        },
        "id": "IMsozCgh1M2Y",
        "outputId": "e5a07284-df84-4388-c68e-91cfd3f7b414"
      },
      "source": [
        "from sklearn.metrics import accuracy_score,classification_report\n",
        "\n",
        "print(\"\\t KNeighborsClassifier: \\n\")\n",
        "print(f\"accuracy_score {accuracy_score(y_test,model_knn.predict(X_test))}\")\n",
        "print(f\" {classification_report(y_test,model_knn.predict(X_test))}\")"
      ],
      "execution_count": 155,
      "outputs": [
        {
          "output_type": "stream",
          "text": [
            "\t KNeighborsClassifier: \n",
            "\n",
            "accuracy_score 0.7717391304347826\n",
            "               precision    recall  f1-score   support\n",
            "\n",
            "           0       0.82      0.91      0.86       146\n",
            "           1       0.41      0.24      0.30        38\n",
            "\n",
            "    accuracy                           0.77       184\n",
            "   macro avg       0.62      0.57      0.58       184\n",
            "weighted avg       0.74      0.77      0.75       184\n",
            "\n"
          ],
          "name": "stdout"
        }
      ]
    },
    {
      "cell_type": "markdown",
      "metadata": {
        "id": "Fw55ikK32TLF"
      },
      "source": [
        "**Le choix des metrics : **\n",
        "le choix d'accuracy_score  est due, il nous donner information sur notre capacité a predire \n",
        "le choix classification_report : est due du fait que , il regorge l'ensemble de metrics qui nous permet de savoir la pertinence de nos predictions"
      ]
    },
    {
      "cell_type": "markdown",
      "metadata": {
        "id": "m399qWBG3T7d"
      },
      "source": [
        "**Analyse des resultats:**\n",
        "sur 100 individus nous pouvons predire 77 ->accuracy\n",
        "sur 100 individus (sans progression) nous pouvons predire 91\n",
        "sur 100 individus (avec progression) nous pouvons predire 24 ce qui n'est pas efficace  \n"
      ]
    },
    {
      "cell_type": "code",
      "metadata": {
        "colab": {
          "base_uri": "https://localhost:8080/"
        },
        "id": "3PgM1zzD2ENv",
        "outputId": "bbb89596-edb0-4d73-a423-bf9ca3d624e1"
      },
      "source": [
        "from imblearn.over_sampling import SMOTE\n",
        "\n",
        "snote=SMOTE()\n",
        "x_train,y_train=snote.fit_resample(X_train,y_train)"
      ],
      "execution_count": 156,
      "outputs": [
        {
          "output_type": "stream",
          "text": [
            "/usr/local/lib/python3.7/dist-packages/sklearn/utils/deprecation.py:87: FutureWarning: Function safe_indexing is deprecated; safe_indexing is deprecated in version 0.22 and will be removed in version 0.24.\n",
            "  warnings.warn(msg, category=FutureWarning)\n"
          ],
          "name": "stderr"
        }
      ]
    },
    {
      "cell_type": "code",
      "metadata": {
        "id": "nzT4pSaC5AKC"
      },
      "source": [
        "x_train_re,x_test_re,y_train_re,y_test_re=train_test_split(x_train,y_train, test_size=0.1, random_state=0)"
      ],
      "execution_count": 157,
      "outputs": []
    },
    {
      "cell_type": "code",
      "metadata": {
        "colab": {
          "base_uri": "https://localhost:8080/"
        },
        "id": "c5oJAkSA5YGP",
        "outputId": "b1148451-b8d3-42d5-f15e-8833ce6c7074"
      },
      "source": [
        "print(\"\\t KNeighborsClassifier: \\n\")\n",
        "print(f\"accuracy_score {accuracy_score(y_test_re,model_knn.predict(x_test_re))}\")\n",
        "print(f\" {classification_report(y_test_re,model_knn.predict(x_test_re))}\")"
      ],
      "execution_count": 158,
      "outputs": [
        {
          "output_type": "stream",
          "text": [
            "\t KNeighborsClassifier: \n",
            "\n",
            "accuracy_score 0.6779661016949152\n",
            "               precision    recall  f1-score   support\n",
            "\n",
            "           0       0.59      0.98      0.74        55\n",
            "           1       0.96      0.41      0.58        63\n",
            "\n",
            "    accuracy                           0.68       118\n",
            "   macro avg       0.78      0.70      0.66       118\n",
            "weighted avg       0.79      0.68      0.65       118\n",
            "\n"
          ],
          "name": "stdout"
        }
      ]
    },
    {
      "cell_type": "markdown",
      "metadata": {
        "id": "QLiaukuX57Pr"
      },
      "source": [
        "**Analyse des resultats:**\n",
        "sur 100 individus nous pouvons predire 65 ->accuracy\n",
        "sur 100 individus (sans progression) nous pouvons predire 98\n",
        "sur 100 individus (avec progression) nous pouvons predire 37 ce qui n'est pas encore efficace  meme si il y a quelques amélioration a un certain niveau\n"
      ]
    },
    {
      "cell_type": "code",
      "metadata": {
        "id": "ja5ADQ2Z5nzq"
      },
      "source": [
        ""
      ],
      "execution_count": 158,
      "outputs": []
    },
    {
      "cell_type": "markdown",
      "metadata": {
        "id": "iIhPRsdq6Yer"
      },
      "source": [
        "## Transformations des Attributs Catégorielles "
      ]
    },
    {
      "cell_type": "markdown",
      "metadata": {
        "id": "IN4dhPk08g--"
      },
      "source": [
        " la combinaison avec au maximum 2  caractères de A, C, G et T est égale 20"
      ]
    },
    {
      "cell_type": "code",
      "metadata": {
        "id": "D3cNVdqN6eaw"
      },
      "source": [
        "#combinaison method\n",
        "symbol=['A','C','G','T']\n",
        "\n",
        "def get_sequence(symbol):\n",
        "  res=[]\n",
        "  for s in symbol:\n",
        "    res.append(s)\n",
        "    for s_c in symbol:\n",
        "      \n",
        "        res.append(f\"{s}{s_c}\")\n",
        "  return res"
      ],
      "execution_count": 159,
      "outputs": []
    },
    {
      "cell_type": "code",
      "metadata": {
        "colab": {
          "base_uri": "https://localhost:8080/"
        },
        "id": "rDGONE4Z-vX5",
        "outputId": "c2e69f74-a28a-497c-c05f-e8628e9ca194"
      },
      "source": [
        "#result\n",
        "print(get_sequence(symbol))"
      ],
      "execution_count": 160,
      "outputs": [
        {
          "output_type": "stream",
          "text": [
            "['A', 'AA', 'AC', 'AG', 'AT', 'C', 'CA', 'CC', 'CG', 'CT', 'G', 'GA', 'GC', 'GG', 'GT', 'T', 'TA', 'TC', 'TG', 'TT']\n"
          ],
          "name": "stdout"
        }
      ]
    },
    {
      "cell_type": "code",
      "metadata": {
        "colab": {
          "base_uri": "https://localhost:8080/",
          "height": 104
        },
        "id": "mySMObUI-2he",
        "outputId": "20059e8d-9544-4825-a277-f93322e4a1eb"
      },
      "source": [
        "#what the column PR Seq look like\n",
        "df['PR Seq'][0]"
      ],
      "execution_count": 161,
      "outputs": [
        {
          "output_type": "execute_result",
          "data": {
            "application/vnd.google.colaboratory.intrinsic+json": {
              "type": "string"
            },
            "text/plain": [
              "'CCTCAAATCACTCTTTGGCAACGACCCCTCGTCCCAATAAGGATAGGGGGGCAACTAAAGGAAGCYCTATTAGATACAGGAGCAGATGATACAGTATTAGAAGACATGGAGTTGCCAGGAAGATGGAAACCAAAAATGATAGGGGGAATTGGAGGTTTTATCAAAGTAARACAGTATGATCAGRTACCCATAGAAATCTATGGACATAAAGCTGTAGGTACAGTATTAATAGGACCTACACCTGTCAACATAATTGGAAGAAATCTGTTGACTCAGCTTGGTTGCACTTTAAATTTY'"
            ]
          },
          "metadata": {
            "tags": []
          },
          "execution_count": 161
        }
      ]
    },
    {
      "cell_type": "code",
      "metadata": {
        "colab": {
          "base_uri": "https://localhost:8080/"
        },
        "id": "1Ol_7fmzBK99",
        "outputId": "1be34001-5f26-46fc-850d-b8e390723563"
      },
      "source": [
        "df['PR Seq'].str.count('A')"
      ],
      "execution_count": 162,
      "outputs": [
        {
          "output_type": "execute_result",
          "data": {
            "text/plain": [
              "0      104\n",
              "1      110\n",
              "2      105\n",
              "3      105\n",
              "4      105\n",
              "      ... \n",
              "915    102\n",
              "916     95\n",
              "917    101\n",
              "918     98\n",
              "919    100\n",
              "Name: PR Seq, Length: 920, dtype: int64"
            ]
          },
          "metadata": {
            "tags": []
          },
          "execution_count": 162
        }
      ]
    },
    {
      "cell_type": "code",
      "metadata": {
        "id": "ecOMMAI_TlHC"
      },
      "source": [
        "def map_sequence_1(name):\n",
        "  resul=[]\n",
        "  for s in get_sequence(symbol):\n",
        "      resul.append(df[name].str.count(s))\n",
        "      \n",
        "  resul_=np.array(resul)\n",
        "  print(resul_.shape)\n",
        "  return resul_.T#.reshape(-1,20)"
      ],
      "execution_count": 163,
      "outputs": []
    },
    {
      "cell_type": "code",
      "metadata": {
        "colab": {
          "base_uri": "https://localhost:8080/",
          "height": 461
        },
        "id": "_O_9Utz6T8x7",
        "outputId": "0ccd628b-6de8-4ab5-89cd-8f9b756c1a7b"
      },
      "source": [
        "rt_data=pd.DataFrame(map_sequence_1('RT Seq'), columns=get_sequence(symbol))\n",
        "rt_data"
      ],
      "execution_count": 164,
      "outputs": [
        {
          "output_type": "stream",
          "text": [
            "(20, 920)\n"
          ],
          "name": "stdout"
        },
        {
          "output_type": "execute_result",
          "data": {
            "text/html": [
              "<div>\n",
              "<style scoped>\n",
              "    .dataframe tbody tr th:only-of-type {\n",
              "        vertical-align: middle;\n",
              "    }\n",
              "\n",
              "    .dataframe tbody tr th {\n",
              "        vertical-align: top;\n",
              "    }\n",
              "\n",
              "    .dataframe thead th {\n",
              "        text-align: right;\n",
              "    }\n",
              "</style>\n",
              "<table border=\"1\" class=\"dataframe\">\n",
              "  <thead>\n",
              "    <tr style=\"text-align: right;\">\n",
              "      <th></th>\n",
              "      <th>A</th>\n",
              "      <th>AA</th>\n",
              "      <th>AC</th>\n",
              "      <th>AG</th>\n",
              "      <th>AT</th>\n",
              "      <th>C</th>\n",
              "      <th>CA</th>\n",
              "      <th>CC</th>\n",
              "      <th>CG</th>\n",
              "      <th>CT</th>\n",
              "      <th>G</th>\n",
              "      <th>GA</th>\n",
              "      <th>GC</th>\n",
              "      <th>GG</th>\n",
              "      <th>GT</th>\n",
              "      <th>T</th>\n",
              "      <th>TA</th>\n",
              "      <th>TC</th>\n",
              "      <th>TG</th>\n",
              "      <th>TT</th>\n",
              "    </tr>\n",
              "  </thead>\n",
              "  <tbody>\n",
              "    <tr>\n",
              "      <th>0</th>\n",
              "      <td>402</td>\n",
              "      <td>107</td>\n",
              "      <td>62</td>\n",
              "      <td>98</td>\n",
              "      <td>84</td>\n",
              "      <td>167</td>\n",
              "      <td>84</td>\n",
              "      <td>36</td>\n",
              "      <td>2</td>\n",
              "      <td>39</td>\n",
              "      <td>210</td>\n",
              "      <td>83</td>\n",
              "      <td>29</td>\n",
              "      <td>41</td>\n",
              "      <td>38</td>\n",
              "      <td>218</td>\n",
              "      <td>78</td>\n",
              "      <td>35</td>\n",
              "      <td>49</td>\n",
              "      <td>43</td>\n",
              "    </tr>\n",
              "    <tr>\n",
              "      <th>1</th>\n",
              "      <td>355</td>\n",
              "      <td>93</td>\n",
              "      <td>57</td>\n",
              "      <td>83</td>\n",
              "      <td>75</td>\n",
              "      <td>151</td>\n",
              "      <td>74</td>\n",
              "      <td>32</td>\n",
              "      <td>5</td>\n",
              "      <td>34</td>\n",
              "      <td>193</td>\n",
              "      <td>75</td>\n",
              "      <td>26</td>\n",
              "      <td>37</td>\n",
              "      <td>38</td>\n",
              "      <td>203</td>\n",
              "      <td>69</td>\n",
              "      <td>30</td>\n",
              "      <td>50</td>\n",
              "      <td>43</td>\n",
              "    </tr>\n",
              "    <tr>\n",
              "      <th>2</th>\n",
              "      <td>360</td>\n",
              "      <td>95</td>\n",
              "      <td>55</td>\n",
              "      <td>85</td>\n",
              "      <td>74</td>\n",
              "      <td>146</td>\n",
              "      <td>76</td>\n",
              "      <td>31</td>\n",
              "      <td>0</td>\n",
              "      <td>33</td>\n",
              "      <td>181</td>\n",
              "      <td>71</td>\n",
              "      <td>25</td>\n",
              "      <td>35</td>\n",
              "      <td>37</td>\n",
              "      <td>201</td>\n",
              "      <td>70</td>\n",
              "      <td>28</td>\n",
              "      <td>45</td>\n",
              "      <td>42</td>\n",
              "    </tr>\n",
              "    <tr>\n",
              "      <th>3</th>\n",
              "      <td>586</td>\n",
              "      <td>156</td>\n",
              "      <td>93</td>\n",
              "      <td>141</td>\n",
              "      <td>121</td>\n",
              "      <td>245</td>\n",
              "      <td>125</td>\n",
              "      <td>47</td>\n",
              "      <td>2</td>\n",
              "      <td>59</td>\n",
              "      <td>305</td>\n",
              "      <td>120</td>\n",
              "      <td>42</td>\n",
              "      <td>64</td>\n",
              "      <td>57</td>\n",
              "      <td>317</td>\n",
              "      <td>110</td>\n",
              "      <td>50</td>\n",
              "      <td>76</td>\n",
              "      <td>62</td>\n",
              "    </tr>\n",
              "    <tr>\n",
              "      <th>4</th>\n",
              "      <td>353</td>\n",
              "      <td>87</td>\n",
              "      <td>53</td>\n",
              "      <td>87</td>\n",
              "      <td>74</td>\n",
              "      <td>150</td>\n",
              "      <td>76</td>\n",
              "      <td>32</td>\n",
              "      <td>4</td>\n",
              "      <td>33</td>\n",
              "      <td>184</td>\n",
              "      <td>75</td>\n",
              "      <td>27</td>\n",
              "      <td>31</td>\n",
              "      <td>36</td>\n",
              "      <td>205</td>\n",
              "      <td>68</td>\n",
              "      <td>30</td>\n",
              "      <td>47</td>\n",
              "      <td>45</td>\n",
              "    </tr>\n",
              "    <tr>\n",
              "      <th>...</th>\n",
              "      <td>...</td>\n",
              "      <td>...</td>\n",
              "      <td>...</td>\n",
              "      <td>...</td>\n",
              "      <td>...</td>\n",
              "      <td>...</td>\n",
              "      <td>...</td>\n",
              "      <td>...</td>\n",
              "      <td>...</td>\n",
              "      <td>...</td>\n",
              "      <td>...</td>\n",
              "      <td>...</td>\n",
              "      <td>...</td>\n",
              "      <td>...</td>\n",
              "      <td>...</td>\n",
              "      <td>...</td>\n",
              "      <td>...</td>\n",
              "      <td>...</td>\n",
              "      <td>...</td>\n",
              "      <td>...</td>\n",
              "    </tr>\n",
              "    <tr>\n",
              "      <th>915</th>\n",
              "      <td>361</td>\n",
              "      <td>95</td>\n",
              "      <td>54</td>\n",
              "      <td>90</td>\n",
              "      <td>77</td>\n",
              "      <td>152</td>\n",
              "      <td>78</td>\n",
              "      <td>32</td>\n",
              "      <td>2</td>\n",
              "      <td>34</td>\n",
              "      <td>183</td>\n",
              "      <td>76</td>\n",
              "      <td>25</td>\n",
              "      <td>35</td>\n",
              "      <td>36</td>\n",
              "      <td>210</td>\n",
              "      <td>68</td>\n",
              "      <td>34</td>\n",
              "      <td>45</td>\n",
              "      <td>49</td>\n",
              "    </tr>\n",
              "    <tr>\n",
              "      <th>916</th>\n",
              "      <td>356</td>\n",
              "      <td>91</td>\n",
              "      <td>51</td>\n",
              "      <td>85</td>\n",
              "      <td>79</td>\n",
              "      <td>147</td>\n",
              "      <td>74</td>\n",
              "      <td>33</td>\n",
              "      <td>0</td>\n",
              "      <td>35</td>\n",
              "      <td>185</td>\n",
              "      <td>75</td>\n",
              "      <td>24</td>\n",
              "      <td>34</td>\n",
              "      <td>34</td>\n",
              "      <td>205</td>\n",
              "      <td>67</td>\n",
              "      <td>31</td>\n",
              "      <td>52</td>\n",
              "      <td>42</td>\n",
              "    </tr>\n",
              "    <tr>\n",
              "      <th>917</th>\n",
              "      <td>384</td>\n",
              "      <td>102</td>\n",
              "      <td>65</td>\n",
              "      <td>89</td>\n",
              "      <td>80</td>\n",
              "      <td>167</td>\n",
              "      <td>86</td>\n",
              "      <td>36</td>\n",
              "      <td>3</td>\n",
              "      <td>35</td>\n",
              "      <td>198</td>\n",
              "      <td>74</td>\n",
              "      <td>30</td>\n",
              "      <td>42</td>\n",
              "      <td>36</td>\n",
              "      <td>217</td>\n",
              "      <td>73</td>\n",
              "      <td>29</td>\n",
              "      <td>49</td>\n",
              "      <td>52</td>\n",
              "    </tr>\n",
              "    <tr>\n",
              "      <th>918</th>\n",
              "      <td>359</td>\n",
              "      <td>93</td>\n",
              "      <td>59</td>\n",
              "      <td>87</td>\n",
              "      <td>77</td>\n",
              "      <td>151</td>\n",
              "      <td>76</td>\n",
              "      <td>32</td>\n",
              "      <td>2</td>\n",
              "      <td>37</td>\n",
              "      <td>188</td>\n",
              "      <td>77</td>\n",
              "      <td>24</td>\n",
              "      <td>35</td>\n",
              "      <td>35</td>\n",
              "      <td>208</td>\n",
              "      <td>71</td>\n",
              "      <td>30</td>\n",
              "      <td>49</td>\n",
              "      <td>45</td>\n",
              "    </tr>\n",
              "    <tr>\n",
              "      <th>919</th>\n",
              "      <td>321</td>\n",
              "      <td>84</td>\n",
              "      <td>46</td>\n",
              "      <td>74</td>\n",
              "      <td>72</td>\n",
              "      <td>131</td>\n",
              "      <td>66</td>\n",
              "      <td>30</td>\n",
              "      <td>0</td>\n",
              "      <td>29</td>\n",
              "      <td>165</td>\n",
              "      <td>66</td>\n",
              "      <td>18</td>\n",
              "      <td>35</td>\n",
              "      <td>34</td>\n",
              "      <td>191</td>\n",
              "      <td>60</td>\n",
              "      <td>29</td>\n",
              "      <td>46</td>\n",
              "      <td>40</td>\n",
              "    </tr>\n",
              "  </tbody>\n",
              "</table>\n",
              "<p>920 rows × 20 columns</p>\n",
              "</div>"
            ],
            "text/plain": [
              "       A   AA  AC   AG   AT    C   CA  CC  ...  GC  GG  GT    T   TA  TC  TG  TT\n",
              "0    402  107  62   98   84  167   84  36  ...  29  41  38  218   78  35  49  43\n",
              "1    355   93  57   83   75  151   74  32  ...  26  37  38  203   69  30  50  43\n",
              "2    360   95  55   85   74  146   76  31  ...  25  35  37  201   70  28  45  42\n",
              "3    586  156  93  141  121  245  125  47  ...  42  64  57  317  110  50  76  62\n",
              "4    353   87  53   87   74  150   76  32  ...  27  31  36  205   68  30  47  45\n",
              "..   ...  ...  ..  ...  ...  ...  ...  ..  ...  ..  ..  ..  ...  ...  ..  ..  ..\n",
              "915  361   95  54   90   77  152   78  32  ...  25  35  36  210   68  34  45  49\n",
              "916  356   91  51   85   79  147   74  33  ...  24  34  34  205   67  31  52  42\n",
              "917  384  102  65   89   80  167   86  36  ...  30  42  36  217   73  29  49  52\n",
              "918  359   93  59   87   77  151   76  32  ...  24  35  35  208   71  30  49  45\n",
              "919  321   84  46   74   72  131   66  30  ...  18  35  34  191   60  29  46  40\n",
              "\n",
              "[920 rows x 20 columns]"
            ]
          },
          "metadata": {
            "tags": []
          },
          "execution_count": 164
        }
      ]
    },
    {
      "cell_type": "code",
      "metadata": {
        "colab": {
          "base_uri": "https://localhost:8080/",
          "height": 461
        },
        "id": "YvRiZxOZWwWG",
        "outputId": "502d07d6-933c-4065-c83d-c20a8786d7ac"
      },
      "source": [
        "pr_data=pd.DataFrame(map_sequence_1('PR Seq'), columns=get_sequence(symbol))\n",
        "pr_data"
      ],
      "execution_count": 165,
      "outputs": [
        {
          "output_type": "stream",
          "text": [
            "(20, 920)\n"
          ],
          "name": "stdout"
        },
        {
          "output_type": "execute_result",
          "data": {
            "text/html": [
              "<div>\n",
              "<style scoped>\n",
              "    .dataframe tbody tr th:only-of-type {\n",
              "        vertical-align: middle;\n",
              "    }\n",
              "\n",
              "    .dataframe tbody tr th {\n",
              "        vertical-align: top;\n",
              "    }\n",
              "\n",
              "    .dataframe thead th {\n",
              "        text-align: right;\n",
              "    }\n",
              "</style>\n",
              "<table border=\"1\" class=\"dataframe\">\n",
              "  <thead>\n",
              "    <tr style=\"text-align: right;\">\n",
              "      <th></th>\n",
              "      <th>A</th>\n",
              "      <th>AA</th>\n",
              "      <th>AC</th>\n",
              "      <th>AG</th>\n",
              "      <th>AT</th>\n",
              "      <th>C</th>\n",
              "      <th>CA</th>\n",
              "      <th>CC</th>\n",
              "      <th>CG</th>\n",
              "      <th>CT</th>\n",
              "      <th>G</th>\n",
              "      <th>GA</th>\n",
              "      <th>GC</th>\n",
              "      <th>GG</th>\n",
              "      <th>GT</th>\n",
              "      <th>T</th>\n",
              "      <th>TA</th>\n",
              "      <th>TC</th>\n",
              "      <th>TG</th>\n",
              "      <th>TT</th>\n",
              "    </tr>\n",
              "  </thead>\n",
              "  <tbody>\n",
              "    <tr>\n",
              "      <th>0</th>\n",
              "      <td>104</td>\n",
              "      <td>23</td>\n",
              "      <td>18</td>\n",
              "      <td>26</td>\n",
              "      <td>26</td>\n",
              "      <td>51</td>\n",
              "      <td>22</td>\n",
              "      <td>9</td>\n",
              "      <td>2</td>\n",
              "      <td>14</td>\n",
              "      <td>67</td>\n",
              "      <td>23</td>\n",
              "      <td>8</td>\n",
              "      <td>19</td>\n",
              "      <td>12</td>\n",
              "      <td>71</td>\n",
              "      <td>25</td>\n",
              "      <td>11</td>\n",
              "      <td>16</td>\n",
              "      <td>14</td>\n",
              "    </tr>\n",
              "    <tr>\n",
              "      <th>1</th>\n",
              "      <td>110</td>\n",
              "      <td>26</td>\n",
              "      <td>18</td>\n",
              "      <td>26</td>\n",
              "      <td>29</td>\n",
              "      <td>49</td>\n",
              "      <td>22</td>\n",
              "      <td>8</td>\n",
              "      <td>3</td>\n",
              "      <td>14</td>\n",
              "      <td>65</td>\n",
              "      <td>25</td>\n",
              "      <td>8</td>\n",
              "      <td>17</td>\n",
              "      <td>11</td>\n",
              "      <td>73</td>\n",
              "      <td>26</td>\n",
              "      <td>12</td>\n",
              "      <td>15</td>\n",
              "      <td>15</td>\n",
              "    </tr>\n",
              "    <tr>\n",
              "      <th>2</th>\n",
              "      <td>105</td>\n",
              "      <td>24</td>\n",
              "      <td>18</td>\n",
              "      <td>26</td>\n",
              "      <td>25</td>\n",
              "      <td>47</td>\n",
              "      <td>20</td>\n",
              "      <td>7</td>\n",
              "      <td>4</td>\n",
              "      <td>15</td>\n",
              "      <td>67</td>\n",
              "      <td>23</td>\n",
              "      <td>8</td>\n",
              "      <td>17</td>\n",
              "      <td>14</td>\n",
              "      <td>74</td>\n",
              "      <td>24</td>\n",
              "      <td>12</td>\n",
              "      <td>15</td>\n",
              "      <td>14</td>\n",
              "    </tr>\n",
              "    <tr>\n",
              "      <th>3</th>\n",
              "      <td>105</td>\n",
              "      <td>23</td>\n",
              "      <td>17</td>\n",
              "      <td>28</td>\n",
              "      <td>27</td>\n",
              "      <td>49</td>\n",
              "      <td>22</td>\n",
              "      <td>8</td>\n",
              "      <td>3</td>\n",
              "      <td>14</td>\n",
              "      <td>71</td>\n",
              "      <td>26</td>\n",
              "      <td>9</td>\n",
              "      <td>19</td>\n",
              "      <td>11</td>\n",
              "      <td>71</td>\n",
              "      <td>24</td>\n",
              "      <td>11</td>\n",
              "      <td>16</td>\n",
              "      <td>14</td>\n",
              "    </tr>\n",
              "    <tr>\n",
              "      <th>4</th>\n",
              "      <td>105</td>\n",
              "      <td>22</td>\n",
              "      <td>18</td>\n",
              "      <td>28</td>\n",
              "      <td>25</td>\n",
              "      <td>50</td>\n",
              "      <td>21</td>\n",
              "      <td>8</td>\n",
              "      <td>3</td>\n",
              "      <td>15</td>\n",
              "      <td>69</td>\n",
              "      <td>25</td>\n",
              "      <td>8</td>\n",
              "      <td>18</td>\n",
              "      <td>14</td>\n",
              "      <td>73</td>\n",
              "      <td>25</td>\n",
              "      <td>13</td>\n",
              "      <td>16</td>\n",
              "      <td>14</td>\n",
              "    </tr>\n",
              "    <tr>\n",
              "      <th>...</th>\n",
              "      <td>...</td>\n",
              "      <td>...</td>\n",
              "      <td>...</td>\n",
              "      <td>...</td>\n",
              "      <td>...</td>\n",
              "      <td>...</td>\n",
              "      <td>...</td>\n",
              "      <td>...</td>\n",
              "      <td>...</td>\n",
              "      <td>...</td>\n",
              "      <td>...</td>\n",
              "      <td>...</td>\n",
              "      <td>...</td>\n",
              "      <td>...</td>\n",
              "      <td>...</td>\n",
              "      <td>...</td>\n",
              "      <td>...</td>\n",
              "      <td>...</td>\n",
              "      <td>...</td>\n",
              "      <td>...</td>\n",
              "    </tr>\n",
              "    <tr>\n",
              "      <th>915</th>\n",
              "      <td>102</td>\n",
              "      <td>26</td>\n",
              "      <td>14</td>\n",
              "      <td>28</td>\n",
              "      <td>22</td>\n",
              "      <td>34</td>\n",
              "      <td>18</td>\n",
              "      <td>5</td>\n",
              "      <td>1</td>\n",
              "      <td>10</td>\n",
              "      <td>63</td>\n",
              "      <td>22</td>\n",
              "      <td>7</td>\n",
              "      <td>16</td>\n",
              "      <td>16</td>\n",
              "      <td>67</td>\n",
              "      <td>25</td>\n",
              "      <td>8</td>\n",
              "      <td>15</td>\n",
              "      <td>14</td>\n",
              "    </tr>\n",
              "    <tr>\n",
              "      <th>916</th>\n",
              "      <td>95</td>\n",
              "      <td>18</td>\n",
              "      <td>17</td>\n",
              "      <td>28</td>\n",
              "      <td>22</td>\n",
              "      <td>36</td>\n",
              "      <td>18</td>\n",
              "      <td>4</td>\n",
              "      <td>2</td>\n",
              "      <td>12</td>\n",
              "      <td>66</td>\n",
              "      <td>23</td>\n",
              "      <td>8</td>\n",
              "      <td>16</td>\n",
              "      <td>13</td>\n",
              "      <td>67</td>\n",
              "      <td>26</td>\n",
              "      <td>7</td>\n",
              "      <td>13</td>\n",
              "      <td>14</td>\n",
              "    </tr>\n",
              "    <tr>\n",
              "      <th>917</th>\n",
              "      <td>101</td>\n",
              "      <td>22</td>\n",
              "      <td>18</td>\n",
              "      <td>22</td>\n",
              "      <td>26</td>\n",
              "      <td>48</td>\n",
              "      <td>22</td>\n",
              "      <td>7</td>\n",
              "      <td>4</td>\n",
              "      <td>13</td>\n",
              "      <td>68</td>\n",
              "      <td>22</td>\n",
              "      <td>6</td>\n",
              "      <td>19</td>\n",
              "      <td>13</td>\n",
              "      <td>73</td>\n",
              "      <td>23</td>\n",
              "      <td>12</td>\n",
              "      <td>16</td>\n",
              "      <td>15</td>\n",
              "    </tr>\n",
              "    <tr>\n",
              "      <th>918</th>\n",
              "      <td>98</td>\n",
              "      <td>21</td>\n",
              "      <td>15</td>\n",
              "      <td>25</td>\n",
              "      <td>26</td>\n",
              "      <td>31</td>\n",
              "      <td>17</td>\n",
              "      <td>5</td>\n",
              "      <td>0</td>\n",
              "      <td>8</td>\n",
              "      <td>61</td>\n",
              "      <td>25</td>\n",
              "      <td>5</td>\n",
              "      <td>15</td>\n",
              "      <td>11</td>\n",
              "      <td>68</td>\n",
              "      <td>24</td>\n",
              "      <td>5</td>\n",
              "      <td>15</td>\n",
              "      <td>16</td>\n",
              "    </tr>\n",
              "    <tr>\n",
              "      <th>919</th>\n",
              "      <td>100</td>\n",
              "      <td>23</td>\n",
              "      <td>15</td>\n",
              "      <td>25</td>\n",
              "      <td>24</td>\n",
              "      <td>34</td>\n",
              "      <td>19</td>\n",
              "      <td>5</td>\n",
              "      <td>1</td>\n",
              "      <td>8</td>\n",
              "      <td>63</td>\n",
              "      <td>22</td>\n",
              "      <td>5</td>\n",
              "      <td>17</td>\n",
              "      <td>15</td>\n",
              "      <td>70</td>\n",
              "      <td>25</td>\n",
              "      <td>8</td>\n",
              "      <td>16</td>\n",
              "      <td>15</td>\n",
              "    </tr>\n",
              "  </tbody>\n",
              "</table>\n",
              "<p>920 rows × 20 columns</p>\n",
              "</div>"
            ],
            "text/plain": [
              "       A  AA  AC  AG  AT   C  CA  CC  CG  ...  GA  GC  GG  GT   T  TA  TC  TG  TT\n",
              "0    104  23  18  26  26  51  22   9   2  ...  23   8  19  12  71  25  11  16  14\n",
              "1    110  26  18  26  29  49  22   8   3  ...  25   8  17  11  73  26  12  15  15\n",
              "2    105  24  18  26  25  47  20   7   4  ...  23   8  17  14  74  24  12  15  14\n",
              "3    105  23  17  28  27  49  22   8   3  ...  26   9  19  11  71  24  11  16  14\n",
              "4    105  22  18  28  25  50  21   8   3  ...  25   8  18  14  73  25  13  16  14\n",
              "..   ...  ..  ..  ..  ..  ..  ..  ..  ..  ...  ..  ..  ..  ..  ..  ..  ..  ..  ..\n",
              "915  102  26  14  28  22  34  18   5   1  ...  22   7  16  16  67  25   8  15  14\n",
              "916   95  18  17  28  22  36  18   4   2  ...  23   8  16  13  67  26   7  13  14\n",
              "917  101  22  18  22  26  48  22   7   4  ...  22   6  19  13  73  23  12  16  15\n",
              "918   98  21  15  25  26  31  17   5   0  ...  25   5  15  11  68  24   5  15  16\n",
              "919  100  23  15  25  24  34  19   5   1  ...  22   5  17  15  70  25   8  16  15\n",
              "\n",
              "[920 rows x 20 columns]"
            ]
          },
          "metadata": {
            "tags": []
          },
          "execution_count": 165
        }
      ]
    },
    {
      "cell_type": "code",
      "metadata": {
        "colab": {
          "base_uri": "https://localhost:8080/"
        },
        "id": "E_xoq64lYsHn",
        "outputId": "02789b54-de83-409d-8d7b-abd0950b5cf5"
      },
      "source": [
        "data_cum=pr_data.values + rt_data.values\n",
        "data_cum"
      ],
      "execution_count": 166,
      "outputs": [
        {
          "output_type": "execute_result",
          "data": {
            "text/plain": [
              "array([[506, 130,  80, ...,  46,  65,  57],\n",
              "       [465, 119,  75, ...,  42,  65,  58],\n",
              "       [465, 119,  73, ...,  40,  60,  56],\n",
              "       ...,\n",
              "       [485, 124,  83, ...,  41,  65,  67],\n",
              "       [457, 114,  74, ...,  35,  64,  61],\n",
              "       [421, 107,  61, ...,  37,  62,  55]])"
            ]
          },
          "metadata": {
            "tags": []
          },
          "execution_count": 166
        }
      ]
    },
    {
      "cell_type": "code",
      "metadata": {
        "colab": {
          "base_uri": "https://localhost:8080/",
          "height": 444
        },
        "id": "0IWYjoN_Yt71",
        "outputId": "b8aa6379-113c-4bf9-f026-c320435e1c7d"
      },
      "source": [
        "cum_data=pd.DataFrame(data_cum, columns=get_sequence(symbol))\n",
        "cum_data"
      ],
      "execution_count": 167,
      "outputs": [
        {
          "output_type": "execute_result",
          "data": {
            "text/html": [
              "<div>\n",
              "<style scoped>\n",
              "    .dataframe tbody tr th:only-of-type {\n",
              "        vertical-align: middle;\n",
              "    }\n",
              "\n",
              "    .dataframe tbody tr th {\n",
              "        vertical-align: top;\n",
              "    }\n",
              "\n",
              "    .dataframe thead th {\n",
              "        text-align: right;\n",
              "    }\n",
              "</style>\n",
              "<table border=\"1\" class=\"dataframe\">\n",
              "  <thead>\n",
              "    <tr style=\"text-align: right;\">\n",
              "      <th></th>\n",
              "      <th>A</th>\n",
              "      <th>AA</th>\n",
              "      <th>AC</th>\n",
              "      <th>AG</th>\n",
              "      <th>AT</th>\n",
              "      <th>C</th>\n",
              "      <th>CA</th>\n",
              "      <th>CC</th>\n",
              "      <th>CG</th>\n",
              "      <th>CT</th>\n",
              "      <th>G</th>\n",
              "      <th>GA</th>\n",
              "      <th>GC</th>\n",
              "      <th>GG</th>\n",
              "      <th>GT</th>\n",
              "      <th>T</th>\n",
              "      <th>TA</th>\n",
              "      <th>TC</th>\n",
              "      <th>TG</th>\n",
              "      <th>TT</th>\n",
              "    </tr>\n",
              "  </thead>\n",
              "  <tbody>\n",
              "    <tr>\n",
              "      <th>0</th>\n",
              "      <td>506</td>\n",
              "      <td>130</td>\n",
              "      <td>80</td>\n",
              "      <td>124</td>\n",
              "      <td>110</td>\n",
              "      <td>218</td>\n",
              "      <td>106</td>\n",
              "      <td>45</td>\n",
              "      <td>4</td>\n",
              "      <td>53</td>\n",
              "      <td>277</td>\n",
              "      <td>106</td>\n",
              "      <td>37</td>\n",
              "      <td>60</td>\n",
              "      <td>50</td>\n",
              "      <td>289</td>\n",
              "      <td>103</td>\n",
              "      <td>46</td>\n",
              "      <td>65</td>\n",
              "      <td>57</td>\n",
              "    </tr>\n",
              "    <tr>\n",
              "      <th>1</th>\n",
              "      <td>465</td>\n",
              "      <td>119</td>\n",
              "      <td>75</td>\n",
              "      <td>109</td>\n",
              "      <td>104</td>\n",
              "      <td>200</td>\n",
              "      <td>96</td>\n",
              "      <td>40</td>\n",
              "      <td>8</td>\n",
              "      <td>48</td>\n",
              "      <td>258</td>\n",
              "      <td>100</td>\n",
              "      <td>34</td>\n",
              "      <td>54</td>\n",
              "      <td>49</td>\n",
              "      <td>276</td>\n",
              "      <td>95</td>\n",
              "      <td>42</td>\n",
              "      <td>65</td>\n",
              "      <td>58</td>\n",
              "    </tr>\n",
              "    <tr>\n",
              "      <th>2</th>\n",
              "      <td>465</td>\n",
              "      <td>119</td>\n",
              "      <td>73</td>\n",
              "      <td>111</td>\n",
              "      <td>99</td>\n",
              "      <td>193</td>\n",
              "      <td>96</td>\n",
              "      <td>38</td>\n",
              "      <td>4</td>\n",
              "      <td>48</td>\n",
              "      <td>248</td>\n",
              "      <td>94</td>\n",
              "      <td>33</td>\n",
              "      <td>52</td>\n",
              "      <td>51</td>\n",
              "      <td>275</td>\n",
              "      <td>94</td>\n",
              "      <td>40</td>\n",
              "      <td>60</td>\n",
              "      <td>56</td>\n",
              "    </tr>\n",
              "    <tr>\n",
              "      <th>3</th>\n",
              "      <td>691</td>\n",
              "      <td>179</td>\n",
              "      <td>110</td>\n",
              "      <td>169</td>\n",
              "      <td>148</td>\n",
              "      <td>294</td>\n",
              "      <td>147</td>\n",
              "      <td>55</td>\n",
              "      <td>5</td>\n",
              "      <td>73</td>\n",
              "      <td>376</td>\n",
              "      <td>146</td>\n",
              "      <td>51</td>\n",
              "      <td>83</td>\n",
              "      <td>68</td>\n",
              "      <td>388</td>\n",
              "      <td>134</td>\n",
              "      <td>61</td>\n",
              "      <td>92</td>\n",
              "      <td>76</td>\n",
              "    </tr>\n",
              "    <tr>\n",
              "      <th>4</th>\n",
              "      <td>458</td>\n",
              "      <td>109</td>\n",
              "      <td>71</td>\n",
              "      <td>115</td>\n",
              "      <td>99</td>\n",
              "      <td>200</td>\n",
              "      <td>97</td>\n",
              "      <td>40</td>\n",
              "      <td>7</td>\n",
              "      <td>48</td>\n",
              "      <td>253</td>\n",
              "      <td>100</td>\n",
              "      <td>35</td>\n",
              "      <td>49</td>\n",
              "      <td>50</td>\n",
              "      <td>278</td>\n",
              "      <td>93</td>\n",
              "      <td>43</td>\n",
              "      <td>63</td>\n",
              "      <td>59</td>\n",
              "    </tr>\n",
              "    <tr>\n",
              "      <th>...</th>\n",
              "      <td>...</td>\n",
              "      <td>...</td>\n",
              "      <td>...</td>\n",
              "      <td>...</td>\n",
              "      <td>...</td>\n",
              "      <td>...</td>\n",
              "      <td>...</td>\n",
              "      <td>...</td>\n",
              "      <td>...</td>\n",
              "      <td>...</td>\n",
              "      <td>...</td>\n",
              "      <td>...</td>\n",
              "      <td>...</td>\n",
              "      <td>...</td>\n",
              "      <td>...</td>\n",
              "      <td>...</td>\n",
              "      <td>...</td>\n",
              "      <td>...</td>\n",
              "      <td>...</td>\n",
              "      <td>...</td>\n",
              "    </tr>\n",
              "    <tr>\n",
              "      <th>915</th>\n",
              "      <td>463</td>\n",
              "      <td>121</td>\n",
              "      <td>68</td>\n",
              "      <td>118</td>\n",
              "      <td>99</td>\n",
              "      <td>186</td>\n",
              "      <td>96</td>\n",
              "      <td>37</td>\n",
              "      <td>3</td>\n",
              "      <td>44</td>\n",
              "      <td>246</td>\n",
              "      <td>98</td>\n",
              "      <td>32</td>\n",
              "      <td>51</td>\n",
              "      <td>52</td>\n",
              "      <td>277</td>\n",
              "      <td>93</td>\n",
              "      <td>42</td>\n",
              "      <td>60</td>\n",
              "      <td>63</td>\n",
              "    </tr>\n",
              "    <tr>\n",
              "      <th>916</th>\n",
              "      <td>451</td>\n",
              "      <td>109</td>\n",
              "      <td>68</td>\n",
              "      <td>113</td>\n",
              "      <td>101</td>\n",
              "      <td>183</td>\n",
              "      <td>92</td>\n",
              "      <td>37</td>\n",
              "      <td>2</td>\n",
              "      <td>47</td>\n",
              "      <td>251</td>\n",
              "      <td>98</td>\n",
              "      <td>32</td>\n",
              "      <td>50</td>\n",
              "      <td>47</td>\n",
              "      <td>272</td>\n",
              "      <td>93</td>\n",
              "      <td>38</td>\n",
              "      <td>65</td>\n",
              "      <td>56</td>\n",
              "    </tr>\n",
              "    <tr>\n",
              "      <th>917</th>\n",
              "      <td>485</td>\n",
              "      <td>124</td>\n",
              "      <td>83</td>\n",
              "      <td>111</td>\n",
              "      <td>106</td>\n",
              "      <td>215</td>\n",
              "      <td>108</td>\n",
              "      <td>43</td>\n",
              "      <td>7</td>\n",
              "      <td>48</td>\n",
              "      <td>266</td>\n",
              "      <td>96</td>\n",
              "      <td>36</td>\n",
              "      <td>61</td>\n",
              "      <td>49</td>\n",
              "      <td>290</td>\n",
              "      <td>96</td>\n",
              "      <td>41</td>\n",
              "      <td>65</td>\n",
              "      <td>67</td>\n",
              "    </tr>\n",
              "    <tr>\n",
              "      <th>918</th>\n",
              "      <td>457</td>\n",
              "      <td>114</td>\n",
              "      <td>74</td>\n",
              "      <td>112</td>\n",
              "      <td>103</td>\n",
              "      <td>182</td>\n",
              "      <td>93</td>\n",
              "      <td>37</td>\n",
              "      <td>2</td>\n",
              "      <td>45</td>\n",
              "      <td>249</td>\n",
              "      <td>102</td>\n",
              "      <td>29</td>\n",
              "      <td>50</td>\n",
              "      <td>46</td>\n",
              "      <td>276</td>\n",
              "      <td>95</td>\n",
              "      <td>35</td>\n",
              "      <td>64</td>\n",
              "      <td>61</td>\n",
              "    </tr>\n",
              "    <tr>\n",
              "      <th>919</th>\n",
              "      <td>421</td>\n",
              "      <td>107</td>\n",
              "      <td>61</td>\n",
              "      <td>99</td>\n",
              "      <td>96</td>\n",
              "      <td>165</td>\n",
              "      <td>85</td>\n",
              "      <td>35</td>\n",
              "      <td>1</td>\n",
              "      <td>37</td>\n",
              "      <td>228</td>\n",
              "      <td>88</td>\n",
              "      <td>23</td>\n",
              "      <td>52</td>\n",
              "      <td>49</td>\n",
              "      <td>261</td>\n",
              "      <td>85</td>\n",
              "      <td>37</td>\n",
              "      <td>62</td>\n",
              "      <td>55</td>\n",
              "    </tr>\n",
              "  </tbody>\n",
              "</table>\n",
              "<p>920 rows × 20 columns</p>\n",
              "</div>"
            ],
            "text/plain": [
              "       A   AA   AC   AG   AT    C   CA  CC  ...  GC  GG  GT    T   TA  TC  TG  TT\n",
              "0    506  130   80  124  110  218  106  45  ...  37  60  50  289  103  46  65  57\n",
              "1    465  119   75  109  104  200   96  40  ...  34  54  49  276   95  42  65  58\n",
              "2    465  119   73  111   99  193   96  38  ...  33  52  51  275   94  40  60  56\n",
              "3    691  179  110  169  148  294  147  55  ...  51  83  68  388  134  61  92  76\n",
              "4    458  109   71  115   99  200   97  40  ...  35  49  50  278   93  43  63  59\n",
              "..   ...  ...  ...  ...  ...  ...  ...  ..  ...  ..  ..  ..  ...  ...  ..  ..  ..\n",
              "915  463  121   68  118   99  186   96  37  ...  32  51  52  277   93  42  60  63\n",
              "916  451  109   68  113  101  183   92  37  ...  32  50  47  272   93  38  65  56\n",
              "917  485  124   83  111  106  215  108  43  ...  36  61  49  290   96  41  65  67\n",
              "918  457  114   74  112  103  182   93  37  ...  29  50  46  276   95  35  64  61\n",
              "919  421  107   61   99   96  165   85  35  ...  23  52  49  261   85  37  62  55\n",
              "\n",
              "[920 rows x 20 columns]"
            ]
          },
          "metadata": {
            "tags": []
          },
          "execution_count": 167
        }
      ]
    },
    {
      "cell_type": "code",
      "metadata": {
        "colab": {
          "base_uri": "https://localhost:8080/"
        },
        "id": "p5Pv_Pv-BQOv",
        "outputId": "da4266eb-2a6a-43ef-92c7-65526fb12be7"
      },
      "source": [
        "df['PR Seq'].str.count('N')"
      ],
      "execution_count": 168,
      "outputs": [
        {
          "output_type": "execute_result",
          "data": {
            "text/plain": [
              "0      0\n",
              "1      0\n",
              "2      0\n",
              "3      0\n",
              "4      0\n",
              "      ..\n",
              "915    0\n",
              "916    0\n",
              "917    2\n",
              "918    0\n",
              "919    0\n",
              "Name: PR Seq, Length: 920, dtype: int64"
            ]
          },
          "metadata": {
            "tags": []
          },
          "execution_count": 168
        }
      ]
    },
    {
      "cell_type": "code",
      "metadata": {
        "id": "r0FYUY8DdQEL"
      },
      "source": [
        "def map_sequence_2(data1, data2,col1,col2,col_imp=['A', 'C', 'G', 'T', 'GA', 'TC', 'GT', 'AC', 'GC', 'AT', 'N']):\n",
        "  res_temp=data1 + data2\n",
        "  data=pd.DataFrame(res_temp, columns=get_sequence(symbol))\n",
        "  data['N']=df[col1].str.count(\"AGCT\")+df[col2].str.count(\"AGCT\")\n",
        "  col_sup=data.columns.drop(col_imp)\n",
        "  return data[data.columns.drop(col_sup)]\n"
      ],
      "execution_count": 169,
      "outputs": []
    },
    {
      "cell_type": "code",
      "metadata": {
        "colab": {
          "base_uri": "https://localhost:8080/",
          "height": 424
        },
        "id": "uB-Yhy45f2qI",
        "outputId": "f8bde615-8a3d-4376-85c4-b5787285264f"
      },
      "source": [
        "map2_data=map_sequence_2(pr_data.values,rt_data.values,'PR Seq','RT Seq')\n",
        "map2_data"
      ],
      "execution_count": 170,
      "outputs": [
        {
          "output_type": "execute_result",
          "data": {
            "text/html": [
              "<div>\n",
              "<style scoped>\n",
              "    .dataframe tbody tr th:only-of-type {\n",
              "        vertical-align: middle;\n",
              "    }\n",
              "\n",
              "    .dataframe tbody tr th {\n",
              "        vertical-align: top;\n",
              "    }\n",
              "\n",
              "    .dataframe thead th {\n",
              "        text-align: right;\n",
              "    }\n",
              "</style>\n",
              "<table border=\"1\" class=\"dataframe\">\n",
              "  <thead>\n",
              "    <tr style=\"text-align: right;\">\n",
              "      <th></th>\n",
              "      <th>A</th>\n",
              "      <th>AC</th>\n",
              "      <th>AT</th>\n",
              "      <th>C</th>\n",
              "      <th>G</th>\n",
              "      <th>GA</th>\n",
              "      <th>GC</th>\n",
              "      <th>GT</th>\n",
              "      <th>T</th>\n",
              "      <th>TC</th>\n",
              "      <th>N</th>\n",
              "    </tr>\n",
              "  </thead>\n",
              "  <tbody>\n",
              "    <tr>\n",
              "      <th>0</th>\n",
              "      <td>506</td>\n",
              "      <td>80</td>\n",
              "      <td>110</td>\n",
              "      <td>218</td>\n",
              "      <td>277</td>\n",
              "      <td>106</td>\n",
              "      <td>37</td>\n",
              "      <td>50</td>\n",
              "      <td>289</td>\n",
              "      <td>46</td>\n",
              "      <td>5</td>\n",
              "    </tr>\n",
              "    <tr>\n",
              "      <th>1</th>\n",
              "      <td>465</td>\n",
              "      <td>75</td>\n",
              "      <td>104</td>\n",
              "      <td>200</td>\n",
              "      <td>258</td>\n",
              "      <td>100</td>\n",
              "      <td>34</td>\n",
              "      <td>49</td>\n",
              "      <td>276</td>\n",
              "      <td>42</td>\n",
              "      <td>4</td>\n",
              "    </tr>\n",
              "    <tr>\n",
              "      <th>2</th>\n",
              "      <td>465</td>\n",
              "      <td>73</td>\n",
              "      <td>99</td>\n",
              "      <td>193</td>\n",
              "      <td>248</td>\n",
              "      <td>94</td>\n",
              "      <td>33</td>\n",
              "      <td>51</td>\n",
              "      <td>275</td>\n",
              "      <td>40</td>\n",
              "      <td>4</td>\n",
              "    </tr>\n",
              "    <tr>\n",
              "      <th>3</th>\n",
              "      <td>691</td>\n",
              "      <td>110</td>\n",
              "      <td>148</td>\n",
              "      <td>294</td>\n",
              "      <td>376</td>\n",
              "      <td>146</td>\n",
              "      <td>51</td>\n",
              "      <td>68</td>\n",
              "      <td>388</td>\n",
              "      <td>61</td>\n",
              "      <td>6</td>\n",
              "    </tr>\n",
              "    <tr>\n",
              "      <th>4</th>\n",
              "      <td>458</td>\n",
              "      <td>71</td>\n",
              "      <td>99</td>\n",
              "      <td>200</td>\n",
              "      <td>253</td>\n",
              "      <td>100</td>\n",
              "      <td>35</td>\n",
              "      <td>50</td>\n",
              "      <td>278</td>\n",
              "      <td>43</td>\n",
              "      <td>4</td>\n",
              "    </tr>\n",
              "    <tr>\n",
              "      <th>...</th>\n",
              "      <td>...</td>\n",
              "      <td>...</td>\n",
              "      <td>...</td>\n",
              "      <td>...</td>\n",
              "      <td>...</td>\n",
              "      <td>...</td>\n",
              "      <td>...</td>\n",
              "      <td>...</td>\n",
              "      <td>...</td>\n",
              "      <td>...</td>\n",
              "      <td>...</td>\n",
              "    </tr>\n",
              "    <tr>\n",
              "      <th>915</th>\n",
              "      <td>463</td>\n",
              "      <td>68</td>\n",
              "      <td>99</td>\n",
              "      <td>186</td>\n",
              "      <td>246</td>\n",
              "      <td>98</td>\n",
              "      <td>32</td>\n",
              "      <td>52</td>\n",
              "      <td>277</td>\n",
              "      <td>42</td>\n",
              "      <td>5</td>\n",
              "    </tr>\n",
              "    <tr>\n",
              "      <th>916</th>\n",
              "      <td>451</td>\n",
              "      <td>68</td>\n",
              "      <td>101</td>\n",
              "      <td>183</td>\n",
              "      <td>251</td>\n",
              "      <td>98</td>\n",
              "      <td>32</td>\n",
              "      <td>47</td>\n",
              "      <td>272</td>\n",
              "      <td>38</td>\n",
              "      <td>4</td>\n",
              "    </tr>\n",
              "    <tr>\n",
              "      <th>917</th>\n",
              "      <td>485</td>\n",
              "      <td>83</td>\n",
              "      <td>106</td>\n",
              "      <td>215</td>\n",
              "      <td>266</td>\n",
              "      <td>96</td>\n",
              "      <td>36</td>\n",
              "      <td>49</td>\n",
              "      <td>290</td>\n",
              "      <td>41</td>\n",
              "      <td>4</td>\n",
              "    </tr>\n",
              "    <tr>\n",
              "      <th>918</th>\n",
              "      <td>457</td>\n",
              "      <td>74</td>\n",
              "      <td>103</td>\n",
              "      <td>182</td>\n",
              "      <td>249</td>\n",
              "      <td>102</td>\n",
              "      <td>29</td>\n",
              "      <td>46</td>\n",
              "      <td>276</td>\n",
              "      <td>35</td>\n",
              "      <td>5</td>\n",
              "    </tr>\n",
              "    <tr>\n",
              "      <th>919</th>\n",
              "      <td>421</td>\n",
              "      <td>61</td>\n",
              "      <td>96</td>\n",
              "      <td>165</td>\n",
              "      <td>228</td>\n",
              "      <td>88</td>\n",
              "      <td>23</td>\n",
              "      <td>49</td>\n",
              "      <td>261</td>\n",
              "      <td>37</td>\n",
              "      <td>2</td>\n",
              "    </tr>\n",
              "  </tbody>\n",
              "</table>\n",
              "<p>920 rows × 11 columns</p>\n",
              "</div>"
            ],
            "text/plain": [
              "       A   AC   AT    C    G   GA  GC  GT    T  TC  N\n",
              "0    506   80  110  218  277  106  37  50  289  46  5\n",
              "1    465   75  104  200  258  100  34  49  276  42  4\n",
              "2    465   73   99  193  248   94  33  51  275  40  4\n",
              "3    691  110  148  294  376  146  51  68  388  61  6\n",
              "4    458   71   99  200  253  100  35  50  278  43  4\n",
              "..   ...  ...  ...  ...  ...  ...  ..  ..  ...  .. ..\n",
              "915  463   68   99  186  246   98  32  52  277  42  5\n",
              "916  451   68  101  183  251   98  32  47  272  38  4\n",
              "917  485   83  106  215  266   96  36  49  290  41  4\n",
              "918  457   74  103  182  249  102  29  46  276  35  5\n",
              "919  421   61   96  165  228   88  23  49  261  37  2\n",
              "\n",
              "[920 rows x 11 columns]"
            ]
          },
          "metadata": {
            "tags": []
          },
          "execution_count": 170
        }
      ]
    },
    {
      "cell_type": "code",
      "metadata": {
        "colab": {
          "base_uri": "https://localhost:8080/"
        },
        "id": "b_H1nbpPpoWw",
        "outputId": "8314ab73-c99e-4674-918f-29d431102ea8"
      },
      "source": [
        "df.columns"
      ],
      "execution_count": 171,
      "outputs": [
        {
          "output_type": "execute_result",
          "data": {
            "text/plain": [
              "Index(['PatientID', 'Resp', 'PR Seq', 'RT Seq', 'VL-t0', 'CD4-t0'], dtype='object')"
            ]
          },
          "metadata": {
            "tags": []
          },
          "execution_count": 171
        }
      ]
    },
    {
      "cell_type": "code",
      "metadata": {
        "colab": {
          "base_uri": "https://localhost:8080/",
          "height": 424
        },
        "id": "6vky0tABmIhN",
        "outputId": "c2286b08-25bb-4a19-a29c-a687e4f8f891"
      },
      "source": [
        "df_new=map2_data\n",
        "\n",
        "df_new['VL-t0']=df['VL-t0']\n",
        "df_new['CD4-t0']=df['CD4-t0']\n",
        "df_new['Resp']=df['Resp']\n",
        "df_new"
      ],
      "execution_count": 172,
      "outputs": [
        {
          "output_type": "execute_result",
          "data": {
            "text/html": [
              "<div>\n",
              "<style scoped>\n",
              "    .dataframe tbody tr th:only-of-type {\n",
              "        vertical-align: middle;\n",
              "    }\n",
              "\n",
              "    .dataframe tbody tr th {\n",
              "        vertical-align: top;\n",
              "    }\n",
              "\n",
              "    .dataframe thead th {\n",
              "        text-align: right;\n",
              "    }\n",
              "</style>\n",
              "<table border=\"1\" class=\"dataframe\">\n",
              "  <thead>\n",
              "    <tr style=\"text-align: right;\">\n",
              "      <th></th>\n",
              "      <th>A</th>\n",
              "      <th>AC</th>\n",
              "      <th>AT</th>\n",
              "      <th>C</th>\n",
              "      <th>G</th>\n",
              "      <th>GA</th>\n",
              "      <th>GC</th>\n",
              "      <th>GT</th>\n",
              "      <th>T</th>\n",
              "      <th>TC</th>\n",
              "      <th>N</th>\n",
              "      <th>VL-t0</th>\n",
              "      <th>CD4-t0</th>\n",
              "      <th>Resp</th>\n",
              "    </tr>\n",
              "  </thead>\n",
              "  <tbody>\n",
              "    <tr>\n",
              "      <th>0</th>\n",
              "      <td>506</td>\n",
              "      <td>80</td>\n",
              "      <td>110</td>\n",
              "      <td>218</td>\n",
              "      <td>277</td>\n",
              "      <td>106</td>\n",
              "      <td>37</td>\n",
              "      <td>50</td>\n",
              "      <td>289</td>\n",
              "      <td>46</td>\n",
              "      <td>5</td>\n",
              "      <td>4.3</td>\n",
              "      <td>145</td>\n",
              "      <td>0</td>\n",
              "    </tr>\n",
              "    <tr>\n",
              "      <th>1</th>\n",
              "      <td>465</td>\n",
              "      <td>75</td>\n",
              "      <td>104</td>\n",
              "      <td>200</td>\n",
              "      <td>258</td>\n",
              "      <td>100</td>\n",
              "      <td>34</td>\n",
              "      <td>49</td>\n",
              "      <td>276</td>\n",
              "      <td>42</td>\n",
              "      <td>4</td>\n",
              "      <td>3.6</td>\n",
              "      <td>224</td>\n",
              "      <td>0</td>\n",
              "    </tr>\n",
              "    <tr>\n",
              "      <th>2</th>\n",
              "      <td>465</td>\n",
              "      <td>73</td>\n",
              "      <td>99</td>\n",
              "      <td>193</td>\n",
              "      <td>248</td>\n",
              "      <td>94</td>\n",
              "      <td>33</td>\n",
              "      <td>51</td>\n",
              "      <td>275</td>\n",
              "      <td>40</td>\n",
              "      <td>4</td>\n",
              "      <td>3.2</td>\n",
              "      <td>1017</td>\n",
              "      <td>0</td>\n",
              "    </tr>\n",
              "    <tr>\n",
              "      <th>3</th>\n",
              "      <td>691</td>\n",
              "      <td>110</td>\n",
              "      <td>148</td>\n",
              "      <td>294</td>\n",
              "      <td>376</td>\n",
              "      <td>146</td>\n",
              "      <td>51</td>\n",
              "      <td>68</td>\n",
              "      <td>388</td>\n",
              "      <td>61</td>\n",
              "      <td>6</td>\n",
              "      <td>5.7</td>\n",
              "      <td>206</td>\n",
              "      <td>0</td>\n",
              "    </tr>\n",
              "    <tr>\n",
              "      <th>4</th>\n",
              "      <td>458</td>\n",
              "      <td>71</td>\n",
              "      <td>99</td>\n",
              "      <td>200</td>\n",
              "      <td>253</td>\n",
              "      <td>100</td>\n",
              "      <td>35</td>\n",
              "      <td>50</td>\n",
              "      <td>278</td>\n",
              "      <td>43</td>\n",
              "      <td>4</td>\n",
              "      <td>3.5</td>\n",
              "      <td>572</td>\n",
              "      <td>0</td>\n",
              "    </tr>\n",
              "    <tr>\n",
              "      <th>...</th>\n",
              "      <td>...</td>\n",
              "      <td>...</td>\n",
              "      <td>...</td>\n",
              "      <td>...</td>\n",
              "      <td>...</td>\n",
              "      <td>...</td>\n",
              "      <td>...</td>\n",
              "      <td>...</td>\n",
              "      <td>...</td>\n",
              "      <td>...</td>\n",
              "      <td>...</td>\n",
              "      <td>...</td>\n",
              "      <td>...</td>\n",
              "      <td>...</td>\n",
              "    </tr>\n",
              "    <tr>\n",
              "      <th>915</th>\n",
              "      <td>463</td>\n",
              "      <td>68</td>\n",
              "      <td>99</td>\n",
              "      <td>186</td>\n",
              "      <td>246</td>\n",
              "      <td>98</td>\n",
              "      <td>32</td>\n",
              "      <td>52</td>\n",
              "      <td>277</td>\n",
              "      <td>42</td>\n",
              "      <td>5</td>\n",
              "      <td>5.5</td>\n",
              "      <td>438</td>\n",
              "      <td>0</td>\n",
              "    </tr>\n",
              "    <tr>\n",
              "      <th>916</th>\n",
              "      <td>451</td>\n",
              "      <td>68</td>\n",
              "      <td>101</td>\n",
              "      <td>183</td>\n",
              "      <td>251</td>\n",
              "      <td>98</td>\n",
              "      <td>32</td>\n",
              "      <td>47</td>\n",
              "      <td>272</td>\n",
              "      <td>38</td>\n",
              "      <td>4</td>\n",
              "      <td>3.7</td>\n",
              "      <td>279</td>\n",
              "      <td>0</td>\n",
              "    </tr>\n",
              "    <tr>\n",
              "      <th>917</th>\n",
              "      <td>485</td>\n",
              "      <td>83</td>\n",
              "      <td>106</td>\n",
              "      <td>215</td>\n",
              "      <td>266</td>\n",
              "      <td>96</td>\n",
              "      <td>36</td>\n",
              "      <td>49</td>\n",
              "      <td>290</td>\n",
              "      <td>41</td>\n",
              "      <td>4</td>\n",
              "      <td>4.1</td>\n",
              "      <td>263</td>\n",
              "      <td>0</td>\n",
              "    </tr>\n",
              "    <tr>\n",
              "      <th>918</th>\n",
              "      <td>457</td>\n",
              "      <td>74</td>\n",
              "      <td>103</td>\n",
              "      <td>182</td>\n",
              "      <td>249</td>\n",
              "      <td>102</td>\n",
              "      <td>29</td>\n",
              "      <td>46</td>\n",
              "      <td>276</td>\n",
              "      <td>35</td>\n",
              "      <td>5</td>\n",
              "      <td>5.6</td>\n",
              "      <td>5</td>\n",
              "      <td>1</td>\n",
              "    </tr>\n",
              "    <tr>\n",
              "      <th>919</th>\n",
              "      <td>421</td>\n",
              "      <td>61</td>\n",
              "      <td>96</td>\n",
              "      <td>165</td>\n",
              "      <td>228</td>\n",
              "      <td>88</td>\n",
              "      <td>23</td>\n",
              "      <td>49</td>\n",
              "      <td>261</td>\n",
              "      <td>37</td>\n",
              "      <td>2</td>\n",
              "      <td>4.4</td>\n",
              "      <td>383</td>\n",
              "      <td>1</td>\n",
              "    </tr>\n",
              "  </tbody>\n",
              "</table>\n",
              "<p>920 rows × 14 columns</p>\n",
              "</div>"
            ],
            "text/plain": [
              "       A   AC   AT    C    G   GA  GC  GT    T  TC  N  VL-t0  CD4-t0  Resp\n",
              "0    506   80  110  218  277  106  37  50  289  46  5    4.3     145     0\n",
              "1    465   75  104  200  258  100  34  49  276  42  4    3.6     224     0\n",
              "2    465   73   99  193  248   94  33  51  275  40  4    3.2    1017     0\n",
              "3    691  110  148  294  376  146  51  68  388  61  6    5.7     206     0\n",
              "4    458   71   99  200  253  100  35  50  278  43  4    3.5     572     0\n",
              "..   ...  ...  ...  ...  ...  ...  ..  ..  ...  .. ..    ...     ...   ...\n",
              "915  463   68   99  186  246   98  32  52  277  42  5    5.5     438     0\n",
              "916  451   68  101  183  251   98  32  47  272  38  4    3.7     279     0\n",
              "917  485   83  106  215  266   96  36  49  290  41  4    4.1     263     0\n",
              "918  457   74  103  182  249  102  29  46  276  35  5    5.6       5     1\n",
              "919  421   61   96  165  228   88  23  49  261  37  2    4.4     383     1\n",
              "\n",
              "[920 rows x 14 columns]"
            ]
          },
          "metadata": {
            "tags": []
          },
          "execution_count": 172
        }
      ]
    },
    {
      "cell_type": "markdown",
      "metadata": {
        "id": "Pfu0K7sSmDsp"
      },
      "source": [
        "## Modelling avec tous les attributs "
      ]
    },
    {
      "cell_type": "code",
      "metadata": {
        "id": "BZLnk5r9rgI-"
      },
      "source": [
        "#set the values of X and y\n",
        "X=df_new[df_new.columns.drop(\"Resp\")]\n",
        "y=df_new['Resp']"
      ],
      "execution_count": 173,
      "outputs": []
    },
    {
      "cell_type": "code",
      "metadata": {
        "id": "HrU5fziqsOmM"
      },
      "source": [
        "#standarisation\n",
        "X_s=scaler.fit_transform(X)"
      ],
      "execution_count": 174,
      "outputs": []
    },
    {
      "cell_type": "code",
      "metadata": {
        "id": "FBPd59ybsbsP"
      },
      "source": [
        "#division of the data\n",
        "X_train,X_test,y_train,y_test=train_test_split(X_s,y,test_size=.20, random_state=0)"
      ],
      "execution_count": 175,
      "outputs": []
    },
    {
      "cell_type": "code",
      "metadata": {
        "colab": {
          "base_uri": "https://localhost:8080/"
        },
        "id": "SnFOKGowcSop",
        "outputId": "5600f096-8b1b-42f5-e8d4-96dfbd637b67"
      },
      "source": [
        "#les models  de mon choix\n",
        "from sklearn.linear_model import LogisticRegressionCV\n",
        "from sklearn.tree import DecisionTreeClassifier\n",
        "from sklearn.ensemble import RandomForestClassifier\n",
        "from sklearn.svm import SVC\n",
        "\n",
        "for name,model in zip(['KNeighborsClassifier','LogisticRegressionCV','DecisionTreeClassifier','RandomForestClassifier','SVC'],\n",
        "                      [KNeighborsClassifier(),LogisticRegressionCV(max_iter=1000),DecisionTreeClassifier(),RandomForestClassifier(),SVC(max_iter=1000)]):\n",
        "  model.fit(X_train,y_train)\n",
        "  print(f\"\\t {name}:\")\n",
        "  print(f\"accuracy: {accuracy_score(y_test,model.predict(X_test))}\")\n",
        "  print(f\" {classification_report(y_test,model.predict(X_test))}\")\n",
        "\n",
        "\n"
      ],
      "execution_count": 176,
      "outputs": [
        {
          "output_type": "stream",
          "text": [
            "\t KNeighborsClassifier:\n",
            "accuracy: 0.7989130434782609\n",
            "               precision    recall  f1-score   support\n",
            "\n",
            "           0       0.83      0.93      0.88       146\n",
            "           1       0.52      0.29      0.37        38\n",
            "\n",
            "    accuracy                           0.80       184\n",
            "   macro avg       0.68      0.61      0.63       184\n",
            "weighted avg       0.77      0.80      0.78       184\n",
            "\n",
            "\t LogisticRegressionCV:\n",
            "accuracy: 0.8097826086956522\n",
            "               precision    recall  f1-score   support\n",
            "\n",
            "           0       0.84      0.95      0.89       146\n",
            "           1       0.58      0.29      0.39        38\n",
            "\n",
            "    accuracy                           0.81       184\n",
            "   macro avg       0.71      0.62      0.64       184\n",
            "weighted avg       0.78      0.81      0.78       184\n",
            "\n",
            "\t DecisionTreeClassifier:\n",
            "accuracy: 0.7065217391304348\n",
            "               precision    recall  f1-score   support\n",
            "\n",
            "           0       0.82      0.81      0.81       146\n",
            "           1       0.30      0.32      0.31        38\n",
            "\n",
            "    accuracy                           0.71       184\n",
            "   macro avg       0.56      0.56      0.56       184\n",
            "weighted avg       0.71      0.71      0.71       184\n",
            "\n",
            "\t RandomForestClassifier:\n",
            "accuracy: 0.7771739130434783\n",
            "               precision    recall  f1-score   support\n",
            "\n",
            "           0       0.82      0.92      0.87       146\n",
            "           1       0.42      0.21      0.28        38\n",
            "\n",
            "    accuracy                           0.78       184\n",
            "   macro avg       0.62      0.57      0.57       184\n",
            "weighted avg       0.74      0.78      0.75       184\n",
            "\n",
            "\t SVC:\n",
            "accuracy: 0.8152173913043478\n",
            "               precision    recall  f1-score   support\n",
            "\n",
            "           0       0.84      0.95      0.89       146\n",
            "           1       0.60      0.32      0.41        38\n",
            "\n",
            "    accuracy                           0.82       184\n",
            "   macro avg       0.72      0.63      0.65       184\n",
            "weighted avg       0.79      0.82      0.79       184\n",
            "\n"
          ],
          "name": "stdout"
        },
        {
          "output_type": "stream",
          "text": [
            "/usr/local/lib/python3.7/dist-packages/sklearn/svm/_base.py:231: ConvergenceWarning: Solver terminated early (max_iter=1000).  Consider pre-processing your data with StandardScaler or MinMaxScaler.\n",
            "  % self.max_iter, ConvergenceWarning)\n"
          ],
          "name": "stderr"
        }
      ]
    },
    {
      "cell_type": "code",
      "metadata": {
        "colab": {
          "base_uri": "https://localhost:8080/"
        },
        "id": "Bho4wBzVezns",
        "outputId": "6b4e305b-fa24-4ace-dfc4-d32fe8734a9f"
      },
      "source": [
        "#utilisation de SMOTE\n",
        "snote=SMOTE()\n",
        "x_train,y_train=snote.fit_resample(X_train,y_train)"
      ],
      "execution_count": 177,
      "outputs": [
        {
          "output_type": "stream",
          "text": [
            "/usr/local/lib/python3.7/dist-packages/sklearn/utils/deprecation.py:87: FutureWarning: Function safe_indexing is deprecated; safe_indexing is deprecated in version 0.22 and will be removed in version 0.24.\n",
            "  warnings.warn(msg, category=FutureWarning)\n"
          ],
          "name": "stderr"
        }
      ]
    },
    {
      "cell_type": "code",
      "metadata": {
        "id": "E-JNSbCJ0lXK"
      },
      "source": [
        "#new division\n",
        "x_train_re,x_test_re,y_train_re,y_test_re=train_test_split(x_train,y_train, test_size=0.1, random_state=0)"
      ],
      "execution_count": 178,
      "outputs": []
    },
    {
      "cell_type": "code",
      "metadata": {
        "colab": {
          "base_uri": "https://localhost:8080/"
        },
        "id": "S0ZeSxHZ0xDs",
        "outputId": "4b354e94-a552-4f54-80e5-7c2e38cda29c"
      },
      "source": [
        "#verifaction of the metrics\n",
        "for name,model in zip(['KNeighborsClassifier','LogisticRegressionCV','DecisionTreeClassifier','RandomForestClassifier','SVC'],\n",
        "                      [KNeighborsClassifier(),LogisticRegressionCV(max_iter=1000),DecisionTreeClassifier(),RandomForestClassifier(),SVC(max_iter=1000)]):\n",
        "  model.fit(x_train_re,y_train_re)\n",
        "  print(f\"\\t {name}:\")\n",
        "  print(f\"accuracy: {accuracy_score(y_test_re,model.predict(x_test_re))}\")\n",
        "  print(f\" {classification_report(y_test_re,model.predict(x_test_re))}\")"
      ],
      "execution_count": 182,
      "outputs": [
        {
          "output_type": "stream",
          "text": [
            "\t KNeighborsClassifier:\n",
            "accuracy: 0.8135593220338984\n",
            "               precision    recall  f1-score   support\n",
            "\n",
            "           0       0.97      0.62      0.76        55\n",
            "           1       0.75      0.98      0.85        63\n",
            "\n",
            "    accuracy                           0.81       118\n",
            "   macro avg       0.86      0.80      0.80       118\n",
            "weighted avg       0.85      0.81      0.81       118\n",
            "\n",
            "\t LogisticRegressionCV:\n",
            "accuracy: 0.7203389830508474\n",
            "               precision    recall  f1-score   support\n",
            "\n",
            "           0       0.69      0.73      0.71        55\n",
            "           1       0.75      0.71      0.73        63\n",
            "\n",
            "    accuracy                           0.72       118\n",
            "   macro avg       0.72      0.72      0.72       118\n",
            "weighted avg       0.72      0.72      0.72       118\n",
            "\n",
            "\t DecisionTreeClassifier:\n",
            "accuracy: 0.8220338983050848\n",
            "               precision    recall  f1-score   support\n",
            "\n",
            "           0       0.81      0.80      0.81        55\n",
            "           1       0.83      0.84      0.83        63\n",
            "\n",
            "    accuracy                           0.82       118\n",
            "   macro avg       0.82      0.82      0.82       118\n",
            "weighted avg       0.82      0.82      0.82       118\n",
            "\n",
            "\t RandomForestClassifier:\n",
            "accuracy: 0.9152542372881356\n",
            "               precision    recall  f1-score   support\n",
            "\n",
            "           0       0.94      0.87      0.91        55\n",
            "           1       0.90      0.95      0.92        63\n",
            "\n",
            "    accuracy                           0.92       118\n",
            "   macro avg       0.92      0.91      0.91       118\n",
            "weighted avg       0.92      0.92      0.91       118\n",
            "\n",
            "\t SVC:\n",
            "accuracy: 0.7288135593220338\n",
            "               precision    recall  f1-score   support\n",
            "\n",
            "           0       0.70      0.73      0.71        55\n",
            "           1       0.75      0.73      0.74        63\n",
            "\n",
            "    accuracy                           0.73       118\n",
            "   macro avg       0.73      0.73      0.73       118\n",
            "weighted avg       0.73      0.73      0.73       118\n",
            "\n"
          ],
          "name": "stdout"
        }
      ]
    },
    {
      "cell_type": "code",
      "metadata": {
        "colab": {
          "base_uri": "https://localhost:8080/"
        },
        "id": "G7hvIoXp08bp",
        "outputId": "4d4c6743-6eb9-4b17-c93a-fbc1b11ff22d"
      },
      "source": [
        "from sklearn.ensemble import VotingClassifier\n",
        "\n",
        "model_voting=VotingClassifier(estimators=[('knn',KNeighborsClassifier()),('lrcv',LogisticRegressionCV(max_iter=1000)),('dtc',DecisionTreeClassifier()),('rfc',RandomForestClassifier()),('svc',SVC(max_iter=1000))])\n",
        "model_voting.fit(x_train_re,y_train_re)"
      ],
      "execution_count": 180,
      "outputs": [
        {
          "output_type": "execute_result",
          "data": {
            "text/plain": [
              "VotingClassifier(estimators=[('knn',\n",
              "                              KNeighborsClassifier(algorithm='auto',\n",
              "                                                   leaf_size=30,\n",
              "                                                   metric='minkowski',\n",
              "                                                   metric_params=None,\n",
              "                                                   n_jobs=None, n_neighbors=5,\n",
              "                                                   p=2, weights='uniform')),\n",
              "                             ('lrcv',\n",
              "                              LogisticRegressionCV(Cs=10, class_weight=None,\n",
              "                                                   cv=None, dual=False,\n",
              "                                                   fit_intercept=True,\n",
              "                                                   intercept_scaling=1.0,\n",
              "                                                   l1_ratios=None,\n",
              "                                                   max_iter=1000,\n",
              "                                                   multi_class='auto',\n",
              "                                                   n_jobs=None, pe...\n",
              "                                                     oob_score=False,\n",
              "                                                     random_state=None,\n",
              "                                                     verbose=0,\n",
              "                                                     warm_start=False)),\n",
              "                             ('svc',\n",
              "                              SVC(C=1.0, break_ties=False, cache_size=200,\n",
              "                                  class_weight=None, coef0=0.0,\n",
              "                                  decision_function_shape='ovr', degree=3,\n",
              "                                  gamma='scale', kernel='rbf', max_iter=1000,\n",
              "                                  probability=False, random_state=None,\n",
              "                                  shrinking=True, tol=0.001, verbose=False))],\n",
              "                 flatten_transform=True, n_jobs=None, voting='hard',\n",
              "                 weights=None)"
            ]
          },
          "metadata": {
            "tags": []
          },
          "execution_count": 180
        }
      ]
    },
    {
      "cell_type": "code",
      "metadata": {
        "colab": {
          "base_uri": "https://localhost:8080/"
        },
        "id": "0fBI3YW416pT",
        "outputId": "9b146b16-6bd8-4129-ecfe-3ef15c3de34c"
      },
      "source": [
        "print(\"\\t Voting:\")\n",
        "print(f\"accuracy: {accuracy_score(y_test_re,model_voting.predict(x_test_re))}\")\n",
        "print(f\"accuracy: {classification_report(y_test_re,model_voting.predict(x_test_re))}\")"
      ],
      "execution_count": 181,
      "outputs": [
        {
          "output_type": "stream",
          "text": [
            "\t Voting:\n",
            "accuracy: 0.8813559322033898\n",
            "accuracy:               precision    recall  f1-score   support\n",
            "\n",
            "           0       0.94      0.80      0.86        55\n",
            "           1       0.85      0.95      0.90        63\n",
            "\n",
            "    accuracy                           0.88       118\n",
            "   macro avg       0.89      0.88      0.88       118\n",
            "weighted avg       0.89      0.88      0.88       118\n",
            "\n"
          ],
          "name": "stdout"
        }
      ]
    },
    {
      "cell_type": "code",
      "metadata": {
        "id": "0UZn3grXJi7q"
      },
      "source": [
        ""
      ],
      "execution_count": null,
      "outputs": []
    }
  ]
}